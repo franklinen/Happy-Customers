{
 "cells": [
  {
   "cell_type": "markdown",
   "id": "3cd680d0",
   "metadata": {},
   "source": [
    "#### Business problem\n",
    "\n",
    "**Background:**\n",
    "\n",
    "We are one of the fastest growing startups in the logistics and delivery domain. We work with several partners and make on-demand delivery to our customers. During the COVID-19 pandemic, we are facing several different challenges and everyday we are trying to address these challenges.\n",
    "\n",
    "We thrive on making our customers happy. As a growing startup, with a global expansion strategy we know that we need to make our customers happy and the only way to do that is to measure how happy each customer is. If we can predict what makes our customers happy or unhappy, we can then take necessary actions.\n",
    "\n",
    "Getting feedback from customers is not easy either, but we do our best to get constant feedback from our customers. This is a crucial function to improve our operations across all levels.\n",
    "\n",
    "We recently did a survey to a select customer cohort. You are presented with a subset of this data. We will be using the remaining data as a private test set.\n",
    "\n",
    "**Data Description:**\n",
    "\n",
    "**Y** = target attribute (Y) with values indicating 0 (unhappy) and 1 (happy) customers\n",
    "\n",
    "**X1** = my order was delivered on time\n",
    "\n",
    "**X2** = contents of my order was as I expected\n",
    "\n",
    "**X3** = I ordered everything I wanted to order\n",
    "\n",
    "**X4** = I paid a good price for my order\n",
    "\n",
    "**X5** = I am satisfied with my courier\n",
    "\n",
    "**X6** = the app makes ordering easy for me\n",
    "\n",
    "Attributes X1 to X6 indicate the responses for each question and have values from 1 to 5 where the smaller number indicates less and the higher number indicates more towards the answer.\n",
    "\n",
    "Goal(s):\n",
    "\n",
    "***Predict if a customer is happy or not based on the answers they give to questions asked.***\n",
    "\n",
    "Success Metrics:\n",
    "\n",
    "Reach 73% accuracy score or above.\n"
   ]
  },
  {
   "cell_type": "code",
   "execution_count": 1,
   "id": "f6dd48eb",
   "metadata": {},
   "outputs": [
    {
     "name": "stdout",
     "output_type": "stream",
     "text": [
      "Requirement already satisfied: xgboost in c:\\users\\tooman\\anaconda3\\lib\\site-packages (2.0.3)Note: you may need to restart the kernel to use updated packages.\n",
      "Requirement already satisfied: scipy in c:\\users\\tooman\\anaconda3\\lib\\site-packages (from xgboost) (1.7.1)\n",
      "Requirement already satisfied: numpy in c:\\users\\tooman\\anaconda3\\lib\\site-packages (from xgboost) (1.20.3)\n",
      "\n"
     ]
    }
   ],
   "source": [
    "pip install xgboost"
   ]
  },
  {
   "cell_type": "code",
   "execution_count": 2,
   "id": "de716eb8",
   "metadata": {},
   "outputs": [],
   "source": [
    "# Import libraries and models\n",
    "import pandas as pd\n",
    "import numpy as np\n",
    "import matplotlib.pyplot as plt\n",
    "import seaborn as sns\n",
    "from sklearn.model_selection import train_test_split\n",
    "import xgboost as xgb\n",
    "from sklearn.metrics import precision_score, classification_report, accuracy_score, roc_auc_score\n",
    "from sklearn.preprocessing import PolynomialFeatures, StandardScaler\n",
    "import warnings\n",
    "\n",
    "warnings.filterwarnings(\"ignore\")\n",
    "\n",
    "# Load the dataset\n",
    "df = pd.read_csv('C:/Users/Tooman/Desktop/ACME-HappinessSurvey2020.csv')"
   ]
  },
  {
   "cell_type": "markdown",
   "id": "666e4780",
   "metadata": {},
   "source": [
    "## Data Exploration"
   ]
  },
  {
   "cell_type": "code",
   "execution_count": 3,
   "id": "d655572d",
   "metadata": {},
   "outputs": [
    {
     "data": {
      "text/html": [
       "<div>\n",
       "<style scoped>\n",
       "    .dataframe tbody tr th:only-of-type {\n",
       "        vertical-align: middle;\n",
       "    }\n",
       "\n",
       "    .dataframe tbody tr th {\n",
       "        vertical-align: top;\n",
       "    }\n",
       "\n",
       "    .dataframe thead th {\n",
       "        text-align: right;\n",
       "    }\n",
       "</style>\n",
       "<table border=\"1\" class=\"dataframe\">\n",
       "  <thead>\n",
       "    <tr style=\"text-align: right;\">\n",
       "      <th></th>\n",
       "      <th>Y</th>\n",
       "      <th>X1</th>\n",
       "      <th>X2</th>\n",
       "      <th>X3</th>\n",
       "      <th>X4</th>\n",
       "      <th>X5</th>\n",
       "      <th>X6</th>\n",
       "    </tr>\n",
       "  </thead>\n",
       "  <tbody>\n",
       "    <tr>\n",
       "      <th>0</th>\n",
       "      <td>0</td>\n",
       "      <td>3</td>\n",
       "      <td>3</td>\n",
       "      <td>3</td>\n",
       "      <td>4</td>\n",
       "      <td>2</td>\n",
       "      <td>4</td>\n",
       "    </tr>\n",
       "    <tr>\n",
       "      <th>1</th>\n",
       "      <td>0</td>\n",
       "      <td>3</td>\n",
       "      <td>2</td>\n",
       "      <td>3</td>\n",
       "      <td>5</td>\n",
       "      <td>4</td>\n",
       "      <td>3</td>\n",
       "    </tr>\n",
       "    <tr>\n",
       "      <th>2</th>\n",
       "      <td>1</td>\n",
       "      <td>5</td>\n",
       "      <td>3</td>\n",
       "      <td>3</td>\n",
       "      <td>3</td>\n",
       "      <td>3</td>\n",
       "      <td>5</td>\n",
       "    </tr>\n",
       "    <tr>\n",
       "      <th>3</th>\n",
       "      <td>0</td>\n",
       "      <td>5</td>\n",
       "      <td>4</td>\n",
       "      <td>3</td>\n",
       "      <td>3</td>\n",
       "      <td>3</td>\n",
       "      <td>5</td>\n",
       "    </tr>\n",
       "    <tr>\n",
       "      <th>4</th>\n",
       "      <td>0</td>\n",
       "      <td>5</td>\n",
       "      <td>4</td>\n",
       "      <td>3</td>\n",
       "      <td>3</td>\n",
       "      <td>3</td>\n",
       "      <td>5</td>\n",
       "    </tr>\n",
       "  </tbody>\n",
       "</table>\n",
       "</div>"
      ],
      "text/plain": [
       "   Y  X1  X2  X3  X4  X5  X6\n",
       "0  0   3   3   3   4   2   4\n",
       "1  0   3   2   3   5   4   3\n",
       "2  1   5   3   3   3   3   5\n",
       "3  0   5   4   3   3   3   5\n",
       "4  0   5   4   3   3   3   5"
      ]
     },
     "execution_count": 3,
     "metadata": {},
     "output_type": "execute_result"
    }
   ],
   "source": [
    "df.head()"
   ]
  },
  {
   "cell_type": "code",
   "execution_count": 4,
   "id": "5b2ac5b2",
   "metadata": {},
   "outputs": [],
   "source": [
    "#column names\n",
    "X1 = \"on_time\"\n",
    "X2 = \"contents\"\n",
    "X3 = \"complete_order\"\n",
    "X4 = \"good_price\"\n",
    "X5 = \"satisfied\"\n",
    "X6 = \"app_ease\"\n",
    "Y = \"customer_sentiment\""
   ]
  },
  {
   "cell_type": "code",
   "execution_count": 5,
   "id": "e0fc6b16",
   "metadata": {},
   "outputs": [],
   "source": [
    "#rename the columns\n",
    "\n",
    "df.columns = ['customer_sentiment', 'on_time', 'contents', 'complete_order', 'good_price', 'satisfied', 'app_ease']"
   ]
  },
  {
   "cell_type": "code",
   "execution_count": 6,
   "id": "8a33a941",
   "metadata": {},
   "outputs": [
    {
     "data": {
      "text/html": [
       "<div>\n",
       "<style scoped>\n",
       "    .dataframe tbody tr th:only-of-type {\n",
       "        vertical-align: middle;\n",
       "    }\n",
       "\n",
       "    .dataframe tbody tr th {\n",
       "        vertical-align: top;\n",
       "    }\n",
       "\n",
       "    .dataframe thead th {\n",
       "        text-align: right;\n",
       "    }\n",
       "</style>\n",
       "<table border=\"1\" class=\"dataframe\">\n",
       "  <thead>\n",
       "    <tr style=\"text-align: right;\">\n",
       "      <th></th>\n",
       "      <th>customer_sentiment</th>\n",
       "      <th>on_time</th>\n",
       "      <th>contents</th>\n",
       "      <th>complete_order</th>\n",
       "      <th>good_price</th>\n",
       "      <th>satisfied</th>\n",
       "      <th>app_ease</th>\n",
       "    </tr>\n",
       "  </thead>\n",
       "  <tbody>\n",
       "    <tr>\n",
       "      <th>0</th>\n",
       "      <td>0</td>\n",
       "      <td>3</td>\n",
       "      <td>3</td>\n",
       "      <td>3</td>\n",
       "      <td>4</td>\n",
       "      <td>2</td>\n",
       "      <td>4</td>\n",
       "    </tr>\n",
       "    <tr>\n",
       "      <th>1</th>\n",
       "      <td>0</td>\n",
       "      <td>3</td>\n",
       "      <td>2</td>\n",
       "      <td>3</td>\n",
       "      <td>5</td>\n",
       "      <td>4</td>\n",
       "      <td>3</td>\n",
       "    </tr>\n",
       "    <tr>\n",
       "      <th>2</th>\n",
       "      <td>1</td>\n",
       "      <td>5</td>\n",
       "      <td>3</td>\n",
       "      <td>3</td>\n",
       "      <td>3</td>\n",
       "      <td>3</td>\n",
       "      <td>5</td>\n",
       "    </tr>\n",
       "    <tr>\n",
       "      <th>3</th>\n",
       "      <td>0</td>\n",
       "      <td>5</td>\n",
       "      <td>4</td>\n",
       "      <td>3</td>\n",
       "      <td>3</td>\n",
       "      <td>3</td>\n",
       "      <td>5</td>\n",
       "    </tr>\n",
       "    <tr>\n",
       "      <th>4</th>\n",
       "      <td>0</td>\n",
       "      <td>5</td>\n",
       "      <td>4</td>\n",
       "      <td>3</td>\n",
       "      <td>3</td>\n",
       "      <td>3</td>\n",
       "      <td>5</td>\n",
       "    </tr>\n",
       "  </tbody>\n",
       "</table>\n",
       "</div>"
      ],
      "text/plain": [
       "   customer_sentiment  on_time  contents  complete_order  good_price  \\\n",
       "0                   0        3         3               3           4   \n",
       "1                   0        3         2               3           5   \n",
       "2                   1        5         3               3           3   \n",
       "3                   0        5         4               3           3   \n",
       "4                   0        5         4               3           3   \n",
       "\n",
       "   satisfied  app_ease  \n",
       "0          2         4  \n",
       "1          4         3  \n",
       "2          3         5  \n",
       "3          3         5  \n",
       "4          3         5  "
      ]
     },
     "execution_count": 6,
     "metadata": {},
     "output_type": "execute_result"
    }
   ],
   "source": [
    "df.head()"
   ]
  },
  {
   "cell_type": "code",
   "execution_count": 7,
   "id": "548ff2d0",
   "metadata": {},
   "outputs": [
    {
     "name": "stdout",
     "output_type": "stream",
     "text": [
      "(126, 7)\n",
      "882\n"
     ]
    }
   ],
   "source": [
    "print(df.shape)\n",
    "print(df.size)"
   ]
  },
  {
   "cell_type": "code",
   "execution_count": 8,
   "id": "5b7ac819",
   "metadata": {},
   "outputs": [
    {
     "data": {
      "text/html": [
       "<div>\n",
       "<style scoped>\n",
       "    .dataframe tbody tr th:only-of-type {\n",
       "        vertical-align: middle;\n",
       "    }\n",
       "\n",
       "    .dataframe tbody tr th {\n",
       "        vertical-align: top;\n",
       "    }\n",
       "\n",
       "    .dataframe thead th {\n",
       "        text-align: right;\n",
       "    }\n",
       "</style>\n",
       "<table border=\"1\" class=\"dataframe\">\n",
       "  <thead>\n",
       "    <tr style=\"text-align: right;\">\n",
       "      <th></th>\n",
       "      <th>count</th>\n",
       "      <th>mean</th>\n",
       "      <th>std</th>\n",
       "      <th>min</th>\n",
       "      <th>25%</th>\n",
       "      <th>50%</th>\n",
       "      <th>75%</th>\n",
       "      <th>max</th>\n",
       "    </tr>\n",
       "  </thead>\n",
       "  <tbody>\n",
       "    <tr>\n",
       "      <th>customer_sentiment</th>\n",
       "      <td>126.0</td>\n",
       "      <td>0.547619</td>\n",
       "      <td>0.499714</td>\n",
       "      <td>0.0</td>\n",
       "      <td>0.0</td>\n",
       "      <td>1.0</td>\n",
       "      <td>1.0</td>\n",
       "      <td>1.0</td>\n",
       "    </tr>\n",
       "    <tr>\n",
       "      <th>on_time</th>\n",
       "      <td>126.0</td>\n",
       "      <td>4.333333</td>\n",
       "      <td>0.800000</td>\n",
       "      <td>1.0</td>\n",
       "      <td>4.0</td>\n",
       "      <td>5.0</td>\n",
       "      <td>5.0</td>\n",
       "      <td>5.0</td>\n",
       "    </tr>\n",
       "    <tr>\n",
       "      <th>contents</th>\n",
       "      <td>126.0</td>\n",
       "      <td>2.531746</td>\n",
       "      <td>1.114892</td>\n",
       "      <td>1.0</td>\n",
       "      <td>2.0</td>\n",
       "      <td>3.0</td>\n",
       "      <td>3.0</td>\n",
       "      <td>5.0</td>\n",
       "    </tr>\n",
       "    <tr>\n",
       "      <th>complete_order</th>\n",
       "      <td>126.0</td>\n",
       "      <td>3.309524</td>\n",
       "      <td>1.023440</td>\n",
       "      <td>1.0</td>\n",
       "      <td>3.0</td>\n",
       "      <td>3.0</td>\n",
       "      <td>4.0</td>\n",
       "      <td>5.0</td>\n",
       "    </tr>\n",
       "    <tr>\n",
       "      <th>good_price</th>\n",
       "      <td>126.0</td>\n",
       "      <td>3.746032</td>\n",
       "      <td>0.875776</td>\n",
       "      <td>1.0</td>\n",
       "      <td>3.0</td>\n",
       "      <td>4.0</td>\n",
       "      <td>4.0</td>\n",
       "      <td>5.0</td>\n",
       "    </tr>\n",
       "    <tr>\n",
       "      <th>satisfied</th>\n",
       "      <td>126.0</td>\n",
       "      <td>3.650794</td>\n",
       "      <td>1.147641</td>\n",
       "      <td>1.0</td>\n",
       "      <td>3.0</td>\n",
       "      <td>4.0</td>\n",
       "      <td>4.0</td>\n",
       "      <td>5.0</td>\n",
       "    </tr>\n",
       "    <tr>\n",
       "      <th>app_ease</th>\n",
       "      <td>126.0</td>\n",
       "      <td>4.253968</td>\n",
       "      <td>0.809311</td>\n",
       "      <td>1.0</td>\n",
       "      <td>4.0</td>\n",
       "      <td>4.0</td>\n",
       "      <td>5.0</td>\n",
       "      <td>5.0</td>\n",
       "    </tr>\n",
       "  </tbody>\n",
       "</table>\n",
       "</div>"
      ],
      "text/plain": [
       "                    count      mean       std  min  25%  50%  75%  max\n",
       "customer_sentiment  126.0  0.547619  0.499714  0.0  0.0  1.0  1.0  1.0\n",
       "on_time             126.0  4.333333  0.800000  1.0  4.0  5.0  5.0  5.0\n",
       "contents            126.0  2.531746  1.114892  1.0  2.0  3.0  3.0  5.0\n",
       "complete_order      126.0  3.309524  1.023440  1.0  3.0  3.0  4.0  5.0\n",
       "good_price          126.0  3.746032  0.875776  1.0  3.0  4.0  4.0  5.0\n",
       "satisfied           126.0  3.650794  1.147641  1.0  3.0  4.0  4.0  5.0\n",
       "app_ease            126.0  4.253968  0.809311  1.0  4.0  4.0  5.0  5.0"
      ]
     },
     "execution_count": 8,
     "metadata": {},
     "output_type": "execute_result"
    }
   ],
   "source": [
    "df.describe().T"
   ]
  },
  {
   "cell_type": "markdown",
   "id": "3c21594d",
   "metadata": {},
   "source": [
    "**Customer_sentiment:** Currently at an average of .54. This could be better and thus validates the necessity of a survey to discover what customers value in order to be happy\n",
    "\n",
    "**On Time:** Average is at 4.33 out of 5 which is great. Most customers are receiving their packages on time and rate this highly.\n",
    "\n",
    "**Contents as Expected:** Average of 2.53 out of 5. This is not great and deserves further inspection.\n",
    "\n",
    "**Ordered Everything (Complete_order):** Average of 3.3 out of 5. Not bad, however not perfect either.\n",
    "\n",
    "**Good Price:** Average of 3.74 out of 5. Again not bad, and customers seem to on average believe they are getting a good value.\n",
    "\n",
    "**Satisied with Courier:** Decent average of 3.65 out of 5. Not bad.\n",
    "\n",
    "**App Easy to Use:** Great Score of 4.25 out of 5. Customers seem to believe that the app is easy to use."
   ]
  },
  {
   "cell_type": "code",
   "execution_count": 9,
   "id": "9a8e80ba",
   "metadata": {},
   "outputs": [
    {
     "data": {
      "text/plain": [
       "customer_sentiment    0\n",
       "on_time               0\n",
       "contents              0\n",
       "complete_order        0\n",
       "good_price            0\n",
       "satisfied             0\n",
       "app_ease              0\n",
       "dtype: int64"
      ]
     },
     "execution_count": 9,
     "metadata": {},
     "output_type": "execute_result"
    }
   ],
   "source": [
    "# checks for missing values in the dataset\n",
    "df.isnull().sum()"
   ]
  },
  {
   "cell_type": "code",
   "execution_count": 10,
   "id": "39f605e3",
   "metadata": {},
   "outputs": [],
   "source": [
    "#check the unique values for all the features"
   ]
  },
  {
   "cell_type": "code",
   "execution_count": 11,
   "id": "7401ecb8",
   "metadata": {},
   "outputs": [
    {
     "name": "stdout",
     "output_type": "stream",
     "text": [
      "[3 5 4 1]\n",
      "[3 2 4 5 1]\n",
      "[3 2 4 5 1]\n",
      "[4 5 3 2 1]\n",
      "[2 4 3 5 1]\n",
      "[4 3 5 2 1]\n"
     ]
    }
   ],
   "source": [
    "print(df['on_time'].unique()) #the unique values for the columns\n",
    "print(df['contents'].unique()) #the unique values for the columns\n",
    "print(df['complete_order'].unique()) #the unique values for the columns\n",
    "print(df['good_price'].unique()) #the unique values for the columns\n",
    "print(df['satisfied'].unique()) #the unique values for the columns\n",
    "print(df['app_ease'].unique()) #the unique values for the columns"
   ]
  },
  {
   "cell_type": "code",
   "execution_count": 12,
   "id": "75a1e4fa",
   "metadata": {},
   "outputs": [
    {
     "data": {
      "text/html": [
       "<div>\n",
       "<style scoped>\n",
       "    .dataframe tbody tr th:only-of-type {\n",
       "        vertical-align: middle;\n",
       "    }\n",
       "\n",
       "    .dataframe tbody tr th {\n",
       "        vertical-align: top;\n",
       "    }\n",
       "\n",
       "    .dataframe thead th {\n",
       "        text-align: right;\n",
       "    }\n",
       "</style>\n",
       "<table border=\"1\" class=\"dataframe\">\n",
       "  <thead>\n",
       "    <tr style=\"text-align: right;\">\n",
       "      <th></th>\n",
       "      <th>customer_sentiment</th>\n",
       "      <th>on_time</th>\n",
       "      <th>contents</th>\n",
       "      <th>complete_order</th>\n",
       "      <th>good_price</th>\n",
       "      <th>satisfied</th>\n",
       "      <th>app_ease</th>\n",
       "    </tr>\n",
       "  </thead>\n",
       "  <tbody>\n",
       "    <tr>\n",
       "      <th>customer_sentiment</th>\n",
       "      <td>1.000000</td>\n",
       "      <td>0.280160</td>\n",
       "      <td>-0.024274</td>\n",
       "      <td>0.150838</td>\n",
       "      <td>0.064415</td>\n",
       "      <td>0.224522</td>\n",
       "      <td>0.167669</td>\n",
       "    </tr>\n",
       "    <tr>\n",
       "      <th>on_time</th>\n",
       "      <td>0.280160</td>\n",
       "      <td>1.000000</td>\n",
       "      <td>0.059797</td>\n",
       "      <td>0.283358</td>\n",
       "      <td>0.087541</td>\n",
       "      <td>0.432772</td>\n",
       "      <td>0.411873</td>\n",
       "    </tr>\n",
       "    <tr>\n",
       "      <th>contents</th>\n",
       "      <td>-0.024274</td>\n",
       "      <td>0.059797</td>\n",
       "      <td>1.000000</td>\n",
       "      <td>0.184129</td>\n",
       "      <td>0.114838</td>\n",
       "      <td>0.039996</td>\n",
       "      <td>-0.062205</td>\n",
       "    </tr>\n",
       "    <tr>\n",
       "      <th>complete_order</th>\n",
       "      <td>0.150838</td>\n",
       "      <td>0.283358</td>\n",
       "      <td>0.184129</td>\n",
       "      <td>1.000000</td>\n",
       "      <td>0.302618</td>\n",
       "      <td>0.358397</td>\n",
       "      <td>0.203750</td>\n",
       "    </tr>\n",
       "    <tr>\n",
       "      <th>good_price</th>\n",
       "      <td>0.064415</td>\n",
       "      <td>0.087541</td>\n",
       "      <td>0.114838</td>\n",
       "      <td>0.302618</td>\n",
       "      <td>1.000000</td>\n",
       "      <td>0.293115</td>\n",
       "      <td>0.215888</td>\n",
       "    </tr>\n",
       "    <tr>\n",
       "      <th>satisfied</th>\n",
       "      <td>0.224522</td>\n",
       "      <td>0.432772</td>\n",
       "      <td>0.039996</td>\n",
       "      <td>0.358397</td>\n",
       "      <td>0.293115</td>\n",
       "      <td>1.000000</td>\n",
       "      <td>0.320195</td>\n",
       "    </tr>\n",
       "    <tr>\n",
       "      <th>app_ease</th>\n",
       "      <td>0.167669</td>\n",
       "      <td>0.411873</td>\n",
       "      <td>-0.062205</td>\n",
       "      <td>0.203750</td>\n",
       "      <td>0.215888</td>\n",
       "      <td>0.320195</td>\n",
       "      <td>1.000000</td>\n",
       "    </tr>\n",
       "  </tbody>\n",
       "</table>\n",
       "</div>"
      ],
      "text/plain": [
       "                    customer_sentiment   on_time  contents  complete_order  \\\n",
       "customer_sentiment            1.000000  0.280160 -0.024274        0.150838   \n",
       "on_time                       0.280160  1.000000  0.059797        0.283358   \n",
       "contents                     -0.024274  0.059797  1.000000        0.184129   \n",
       "complete_order                0.150838  0.283358  0.184129        1.000000   \n",
       "good_price                    0.064415  0.087541  0.114838        0.302618   \n",
       "satisfied                     0.224522  0.432772  0.039996        0.358397   \n",
       "app_ease                      0.167669  0.411873 -0.062205        0.203750   \n",
       "\n",
       "                    good_price  satisfied  app_ease  \n",
       "customer_sentiment    0.064415   0.224522  0.167669  \n",
       "on_time               0.087541   0.432772  0.411873  \n",
       "contents              0.114838   0.039996 -0.062205  \n",
       "complete_order        0.302618   0.358397  0.203750  \n",
       "good_price            1.000000   0.293115  0.215888  \n",
       "satisfied             0.293115   1.000000  0.320195  \n",
       "app_ease              0.215888   0.320195  1.000000  "
      ]
     },
     "execution_count": 12,
     "metadata": {},
     "output_type": "execute_result"
    }
   ],
   "source": [
    "df.corr()  #checks for the correlation of the variables against each other"
   ]
  },
  {
   "cell_type": "code",
   "execution_count": 13,
   "id": "3734f94c",
   "metadata": {},
   "outputs": [
    {
     "data": {
      "image/png": "[encoded data removed]",
      "text/plain": [
       "<Figure size 720x576 with 2 Axes>"
      ]
     },
     "metadata": {},
     "output_type": "display_data"
    }
   ],
   "source": [
    "#plot correlation matrix heatmap\n",
    "corr = df.corr()\n",
    "\n",
    "sns.set_style(\"whitegrid\")\n",
    "plt.figure(figsize=(10,8))\n",
    "sns.heatmap(corr, annot=True, cmap='Greens', fmt=\".2f\", \n",
    "            xticklabels=corr.columns, yticklabels=corr.columns,\n",
    "            linewidths=.5, cbar_kws={\"shrink\": .5})\n",
    "\n",
    "plt.show()"
   ]
  },
  {
   "cell_type": "code",
   "execution_count": 14,
   "id": "2570ae81",
   "metadata": {},
   "outputs": [
    {
     "data": {
      "image/png": "[encoded data removed]",
      "text/plain": [
       "<Figure size 432x288 with 1 Axes>"
      ]
     },
     "metadata": {},
     "output_type": "display_data"
    }
   ],
   "source": [
    "sns.countplot(df[\"customer_sentiment\"],orient=\"V\")\n",
    "plt.show()"
   ]
  },
  {
   "cell_type": "markdown",
   "id": "d15cdf18",
   "metadata": {},
   "source": [
    "**the countplot shows that the column for the customer sentiment is almost equally distributed between happy and not happy customers**"
   ]
  },
  {
   "cell_type": "code",
   "execution_count": 15,
   "id": "33788572",
   "metadata": {},
   "outputs": [
    {
     "data": {
      "text/plain": [
       "1    69\n",
       "0    57\n",
       "Name: customer_sentiment, dtype: int64"
      ]
     },
     "execution_count": 15,
     "metadata": {},
     "output_type": "execute_result"
    }
   ],
   "source": [
    "df['customer_sentiment'].value_counts()"
   ]
  },
  {
   "cell_type": "code",
   "execution_count": 16,
   "id": "4cc53f85",
   "metadata": {},
   "outputs": [
    {
     "data": {
      "image/png": "[encoded data removed]",
      "text/plain": [
       "<Figure size 432x288 with 1 Axes>"
      ]
     },
     "metadata": {},
     "output_type": "display_data"
    },
    {
     "data": {
      "image/png": "[encoded data removed]",
      "text/plain": [
       "<Figure size 432x288 with 1 Axes>"
      ]
     },
     "metadata": {},
     "output_type": "display_data"
    },
    {
     "data": {
      "image/png": "[encoded data removed]",
      "text/plain": [
       "<Figure size 432x288 with 1 Axes>"
      ]
     },
     "metadata": {},
     "output_type": "display_data"
    },
    {
     "data": {
      "image/png": "[encoded data removed]",
      "text/plain": [
       "<Figure size 432x288 with 1 Axes>"
      ]
     },
     "metadata": {},
     "output_type": "display_data"
    },
    {
     "data": {
      "image/png": "[encoded data removed]",
      "text/plain": [
       "<Figure size 432x288 with 1 Axes>"
      ]
     },
     "metadata": {},
     "output_type": "display_data"
    },
    {
     "data": {
      "image/png": "[encoded data removed]",
      "text/plain": [
       "<Figure size 432x288 with 1 Axes>"
      ]
     },
     "metadata": {},
     "output_type": "display_data"
    }
   ],
   "source": [
    "df.groupby('on_time')['customer_sentiment'].sum().plot(kind='bar')\n",
    "plt.xlabel('on_time')\n",
    "plt.ylabel('Happy')\n",
    "plt.title('Happy vs On time')\n",
    "plt.show()\n",
    "\n",
    "df.groupby('contents')['customer_sentiment'].sum().plot(kind='bar')\n",
    "plt.xlabel('contents')\n",
    "plt.ylabel('Happy')\n",
    "plt.title('Happy vs Contents')\n",
    "plt.show()\n",
    "\n",
    "df.groupby('complete_order')['customer_sentiment'].sum().plot(kind='bar')\n",
    "plt.xlabel('ordered_everything')\n",
    "plt.ylabel('Happy')\n",
    "plt.title('Happy vs Ordered Everything')\n",
    "plt.show()\n",
    "\n",
    "df.groupby('good_price')['customer_sentiment'].sum().plot(kind='bar')\n",
    "plt.xlabel('good_price')\n",
    "plt.ylabel('Happy')\n",
    "plt.title('Happy vs Good Price')\n",
    "plt.show()\n",
    "\n",
    "df.groupby('satisfied')['customer_sentiment'].sum().plot(kind='bar')\n",
    "plt.xlabel('satisfied')\n",
    "plt.ylabel('Happy')\n",
    "plt.title('Happy vs Satisfied')\n",
    "plt.show()\n",
    "\n",
    "df.groupby('app_ease')['customer_sentiment'].sum().plot(kind='bar')\n",
    "plt.xlabel('app_easy')\n",
    "plt.ylabel('Happy')\n",
    "plt.title('Happy vs App Easy')\n",
    "plt.show()"
   ]
  },
  {
   "cell_type": "markdown",
   "id": "e2ba5731",
   "metadata": {},
   "source": [
    "**Preliminary Analysis:**\n",
    "\n",
    "**On Time:** Seems to have the strongest correlation out of all the features.\n",
    "\n",
    "**Contents as Expected:** Does **NOT** seem to have any strong relationship to happiness.\n",
    "\n",
    "**Ordered Everything:** Also does **NOT** seem to have any meaningful relationship to happiness.\n",
    "\n",
    "**Good Price:** Seems to have a loosely positive correlation to happiness, this is also shown through the correlation matrix.\n",
    "\n",
    "**Satisfied With Courier:** Has a strong positive linear relationship to happiness.\n",
    "\n",
    "**App Easy:** Positively correlated to happiness."
   ]
  },
  {
   "cell_type": "markdown",
   "id": "48504330",
   "metadata": {},
   "source": [
    "## Modeling"
   ]
  },
  {
   "cell_type": "code",
   "execution_count": 17,
   "id": "c3219306",
   "metadata": {},
   "outputs": [],
   "source": [
    "# define dataset features\n",
    "features = ['on_time', 'contents', 'complete_order', 'good_price', 'satisfied', 'app_ease']\n",
    "\n",
    "X = df.loc[:, features]\n",
    "y = df.loc[:, ['customer_sentiment']]\n",
    "\n",
    "#X = df[['on_time', 'contents', 'complete_order', 'good_price', 'satisfied', 'app_ease']]\n",
    "#y = df['customer_sentiment']"
   ]
  },
  {
   "cell_type": "markdown",
   "id": "f366bd86",
   "metadata": {},
   "source": [
    "**Split Data**"
   ]
  },
  {
   "cell_type": "code",
   "execution_count": 18,
   "id": "b037df7b",
   "metadata": {},
   "outputs": [],
   "source": [
    "# Split the data into a training set and a test set\n",
    "X_train, X_test, y_train, y_test = train_test_split(X, y, test_size=0.20, random_state=42, stratify=y)"
   ]
  },
  {
   "cell_type": "markdown",
   "id": "19869459",
   "metadata": {},
   "source": [
    "**Scale the Data with Standard Scaler**"
   ]
  },
  {
   "cell_type": "code",
   "execution_count": 19,
   "id": "31142130",
   "metadata": {},
   "outputs": [],
   "source": [
    "scaler = StandardScaler()\n",
    "X_train_scaled = scaler.fit_transform(X_train)\n",
    "X_test_scaled = scaler.transform(X_test)"
   ]
  },
  {
   "cell_type": "markdown",
   "id": "14e71923",
   "metadata": {},
   "source": [
    "**XGBoostClassifier**"
   ]
  },
  {
   "cell_type": "code",
   "execution_count": 20,
   "id": "57b7524f",
   "metadata": {},
   "outputs": [
    {
     "name": "stdout",
     "output_type": "stream",
     "text": [
      "              precision    recall  f1-score   support\n",
      "\n",
      "           0       0.42      0.42      0.42        12\n",
      "           1       0.50      0.50      0.50        14\n",
      "\n",
      "    accuracy                           0.46        26\n",
      "   macro avg       0.46      0.46      0.46        26\n",
      "weighted avg       0.46      0.46      0.46        26\n",
      "\n"
     ]
    }
   ],
   "source": [
    "xgb_classifier = xgb.XGBClassifier()\n",
    "\n",
    "xgb_classifier.fit(X_train_scaled, y_train)\n",
    "\n",
    "xgb_pred = xgb_classifier.predict(X_test_scaled)\n",
    "\n",
    "print(classification_report(y_test, xgb_pred))"
   ]
  },
  {
   "cell_type": "code",
   "execution_count": 21,
   "id": "324e2869",
   "metadata": {},
   "outputs": [
    {
     "data": {
      "text/plain": [
       "Text(0.5, 1.0, 'Feature Importance')"
      ]
     },
     "execution_count": 21,
     "metadata": {},
     "output_type": "execute_result"
    },
    {
     "data": {
      "image/png": "[encoded data removed]",
      "text/plain": [
       "<Figure size 864x432 with 1 Axes>"
      ]
     },
     "metadata": {},
     "output_type": "display_data"
    }
   ],
   "source": [
    "feature_importance = xgb_classifier.feature_importances_\n",
    "sorted_idx = np.argsort(feature_importance)\n",
    "fig = plt.figure(figsize=(12, 6))\n",
    "plt.barh(range(len(sorted_idx)), feature_importance[sorted_idx], align='center')\n",
    "plt.yticks(range(len(sorted_idx)), np.array(X_test.columns)[sorted_idx])\n",
    "plt.title('Feature Importance')"
   ]
  },
  {
   "cell_type": "markdown",
   "id": "908753f2",
   "metadata": {},
   "source": [
    "**Feature Importance Analysis:** \n",
    "\n",
    "According to this default parameter XGBoost Model, from the most to least important features is complete_order, on_time, app_ease, satisfied, contents, good_price. This will help in selecting features for the final model."
   ]
  },
  {
   "cell_type": "markdown",
   "id": "d63302f8",
   "metadata": {},
   "source": [
    "**Feature Selection:** \n",
    "\n",
    "Out of all the features in the dataset, most do not seem as if they would help predict happiness. For this first round I will remove all features except on_time, satisfied, and ordered_everything as on_time, and satisfied have the most correlation with happiness, and ordered_everything has the highest feature importance from the XGBoost model."
   ]
  },
  {
   "cell_type": "code",
   "execution_count": 22,
   "id": "8c2539dd",
   "metadata": {},
   "outputs": [],
   "source": [
    "#choose reduced number of features\n",
    "features = ['on_time','complete_order','satisfied'] \n",
    "\n",
    "X = df.loc[:, features]\n",
    "y = df.loc[:, ['customer_sentiment']]\n",
    "\n",
    "# Split the data into a training set and a test set\n",
    "X_train, X_test, y_train, y_test = train_test_split(X, y, test_size=0.20, random_state=42, stratify=y)\n",
    "\n",
    "scaler = StandardScaler()\n",
    "X_train_scaled = scaler.fit_transform(X_train)\n",
    "X_test_scaled = scaler.transform(X_test)"
   ]
  },
  {
   "cell_type": "markdown",
   "id": "98c2a4a1",
   "metadata": {},
   "source": [
    "**Retry Fitting XGBoost on new smaller feature set:**"
   ]
  },
  {
   "cell_type": "code",
   "execution_count": 23,
   "id": "1c287686",
   "metadata": {},
   "outputs": [
    {
     "name": "stdout",
     "output_type": "stream",
     "text": [
      "0.79\n",
      "0.6153846153846154\n",
      "              precision    recall  f1-score   support\n",
      "\n",
      "           0       0.57      0.67      0.62        12\n",
      "           1       0.67      0.57      0.62        14\n",
      "\n",
      "    accuracy                           0.62        26\n",
      "   macro avg       0.62      0.62      0.62        26\n",
      "weighted avg       0.62      0.62      0.62        26\n",
      "\n"
     ]
    }
   ],
   "source": [
    "xgb_classifier.fit(X_train_scaled,y_train)\n",
    "\n",
    "y_pred = xgb_classifier.predict(X_test_scaled)\n",
    "y_train_pred = xgb_classifier.predict(X_train_scaled)\n",
    "print(accuracy_score(y_train, y_train_pred))\n",
    "print(accuracy_score(y_test, y_pred))\n",
    "print(classification_report(y_test, y_pred))"
   ]
  },
  {
   "cell_type": "markdown",
   "id": "d23d2648",
   "metadata": {},
   "source": [
    "#### Try another combination of features to get the desired accuracy. "
   ]
  },
  {
   "cell_type": "code",
   "execution_count": 25,
   "id": "065082c1",
   "metadata": {},
   "outputs": [],
   "source": [
    "#choose reduced number of features\n",
    "features = ['on_time','satisfied','contents'] \n",
    "\n",
    "X = df.loc[:, features]\n",
    "y = df.loc[:, ['customer_sentiment']]\n",
    "\n",
    "# Split the data into a training set and a test set\n",
    "X_train, X_test, y_train, y_test = train_test_split(X, y, test_size=0.20, random_state=42, stratify=y)\n",
    "\n",
    "scaler = StandardScaler()\n",
    "X_train_scaled = scaler.fit_transform(X_train)\n",
    "X_test_scaled = scaler.transform(X_test)"
   ]
  },
  {
   "cell_type": "code",
   "execution_count": 26,
   "id": "2288f02a",
   "metadata": {},
   "outputs": [
    {
     "name": "stdout",
     "output_type": "stream",
     "text": [
      "0.8\n",
      "0.8461538461538461\n",
      "              precision    recall  f1-score   support\n",
      "\n",
      "           0       0.79      0.92      0.85        12\n",
      "           1       0.92      0.79      0.85        14\n",
      "\n",
      "    accuracy                           0.85        26\n",
      "   macro avg       0.85      0.85      0.85        26\n",
      "weighted avg       0.86      0.85      0.85        26\n",
      "\n"
     ]
    }
   ],
   "source": [
    "xgb_classifier.fit(X_train_scaled,y_train)\n",
    "\n",
    "y_pred = xgb_classifier.predict(X_test_scaled)\n",
    "y_train_pred = xgb_classifier.predict(X_train_scaled)\n",
    "print(accuracy_score(y_train, y_train_pred))\n",
    "print(accuracy_score(y_test, y_pred))\n",
    "print(classification_report(y_test, y_pred))"
   ]
  },
  {
   "cell_type": "markdown",
   "id": "899d64f1",
   "metadata": {},
   "source": [
    "**Final Model Analysis:**\n",
    "\n",
    "This model with on_time, satisfied, and contents as features performed the best and meets the .73 minimum requirement on accuracy on both the test set, and training set. Also, the model performs better on the test set than the training set, with a .85 accuracy on the test set, while getting a .8 on the training set. This means that the model has NOT overfitted."
   ]
  },
  {
   "cell_type": "markdown",
   "id": "dba93e7e",
   "metadata": {},
   "source": [
    "**Conclusion:** \n",
    "\n",
    "Not included in this notebook, is many tests with other models, feature sets, and hyperparameter tuning. I previously tested a Logistic Regression, Support Vector Machine and a Random Forest model, with XGBoost outperforming all of them.\n",
    "\n",
    "Some model had promising results as the random forest model initially seemed like better, however it failed to improve with feature selection.\n",
    "\n",
    "XGBoost model performed better after feature selection with the random forest model producing a .71 accuracy on test data, while the XGBoost model had a .85 accuracy on test data.\n",
    "\n",
    "Overall, the best performing model was the XGBoost model given that it had a higher accuracy, precision, and recall than the Random Forest model. On all these metrics the XGBoost model performed the best.\n",
    "\n",
    "**Recommendations:**\n",
    "\n",
    "In order to best predict customer happiness, the company only needs to ask if the customer is:\n",
    "1. Satisfied with the courier \n",
    "2. If the delivery was on time\n",
    "3. If all the contents of the delivery were as expected\n",
    "\n",
    "combination of all other questions do not lead to as good of predictions.\n",
    "\n",
    "If the company wants to improve customer satisfaction, they should improve these aspects of the customer experience.\n",
    "\n"
   ]
  }
 ],
 "metadata": {
  "kernelspec": {
   "display_name": "Python 3 (ipykernel)",
   "language": "python",
   "name": "python3"
  },
  "language_info": {
   "codemirror_mode": {
    "name": "ipython",
    "version": 3
   },
   "file_extension": ".py",
   "mimetype": "text/x-python",
   "name": "python",
   "nbconvert_exporter": "python",
   "pygments_lexer": "ipython3",
   "version": "3.9.7"
  }
 },
 "nbformat": 4,
 "nbformat_minor": 5
}
