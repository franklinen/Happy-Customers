{
 "cells": [
  {
   "cell_type": "markdown",
   "id": "3cd680d0",
   "metadata": {},
   "source": [
    "## Business problem\n",
    "\n",
    "***Predict if a customer is happy or not based on the answers they give to questions asked.***"
   ]
  },
  {
   "cell_type": "code",
   "execution_count": 60,
   "id": "a474bf80",
   "metadata": {},
   "outputs": [
    {
     "name": "stdout",
     "output_type": "stream",
     "text": [
      "Collecting xgboost\n",
      "  Downloading xgboost-2.0.3-py3-none-win_amd64.whl (99.8 MB)\n",
      "Requirement already satisfied: numpy in c:\\users\\tooman\\anaconda3\\lib\\site-packages (from xgboost) (1.20.3)\n",
      "Requirement already satisfied: scipy in c:\\users\\tooman\\anaconda3\\lib\\site-packages (from xgboost) (1.7.1)\n",
      "Installing collected packages: xgboost\n",
      "Successfully installed xgboost-2.0.3\n",
      "Note: you may need to restart the kernel to use updated packages.\n"
     ]
    }
   ],
   "source": [
    "pip install xgboost"
   ]
  },
  {
   "cell_type": "code",
   "execution_count": 110,
   "id": "de716eb8",
   "metadata": {},
   "outputs": [],
   "source": [
    "# Import libraries\n",
    "\n",
    "import numpy as np\n",
    "import pandas as pd \n",
    "from sklearn.preprocessing import PolynomialFeatures, StandardScaler\n",
    "import matplotlib.pyplot as plt\n",
    "import seaborn as sns\n",
    "import xgboost\n",
    "\n",
    "from sklearn.datasets import make_regression\n",
    "from sklearn.ensemble import RandomForestRegressor\n",
    "from matplotlib import pyplot\n",
    "from sklearn.model_selection import train_test_split\n",
    "from sklearn.model_selection import GridSearchCV\n",
    "from sklearn.metrics import roc_auc_score\n",
    "\n",
    "# import models\n",
    "from sklearn.linear_model import LogisticRegression\n",
    "from sklearn.ensemble import RandomForestClassifier\n",
    "from sklearn.ensemble import AdaBoostClassifier\n",
    "from sklearn.neighbors import KNeighborsClassifier\n",
    "from sklearn.svm import SVC\n",
    "from xgboost import XGBClassifier\n",
    "from sklearn.metrics import classification_report\n",
    "# Load the dataset\n",
    "df = pd.read_csv('C:/Users/Tooman/Desktop/ACME-HappinessSurvey2020.csv')"
   ]
  },
  {
   "cell_type": "markdown",
   "id": "666e4780",
   "metadata": {},
   "source": [
    "## Data Exploration"
   ]
  },
  {
   "cell_type": "code",
   "execution_count": 2,
   "id": "d655572d",
   "metadata": {},
   "outputs": [
    {
     "data": {
      "text/html": [
       "<div>\n",
       "<style scoped>\n",
       "    .dataframe tbody tr th:only-of-type {\n",
       "        vertical-align: middle;\n",
       "    }\n",
       "\n",
       "    .dataframe tbody tr th {\n",
       "        vertical-align: top;\n",
       "    }\n",
       "\n",
       "    .dataframe thead th {\n",
       "        text-align: right;\n",
       "    }\n",
       "</style>\n",
       "<table border=\"1\" class=\"dataframe\">\n",
       "  <thead>\n",
       "    <tr style=\"text-align: right;\">\n",
       "      <th></th>\n",
       "      <th>Y</th>\n",
       "      <th>X1</th>\n",
       "      <th>X2</th>\n",
       "      <th>X3</th>\n",
       "      <th>X4</th>\n",
       "      <th>X5</th>\n",
       "      <th>X6</th>\n",
       "    </tr>\n",
       "  </thead>\n",
       "  <tbody>\n",
       "    <tr>\n",
       "      <th>0</th>\n",
       "      <td>0</td>\n",
       "      <td>3</td>\n",
       "      <td>3</td>\n",
       "      <td>3</td>\n",
       "      <td>4</td>\n",
       "      <td>2</td>\n",
       "      <td>4</td>\n",
       "    </tr>\n",
       "    <tr>\n",
       "      <th>1</th>\n",
       "      <td>0</td>\n",
       "      <td>3</td>\n",
       "      <td>2</td>\n",
       "      <td>3</td>\n",
       "      <td>5</td>\n",
       "      <td>4</td>\n",
       "      <td>3</td>\n",
       "    </tr>\n",
       "    <tr>\n",
       "      <th>2</th>\n",
       "      <td>1</td>\n",
       "      <td>5</td>\n",
       "      <td>3</td>\n",
       "      <td>3</td>\n",
       "      <td>3</td>\n",
       "      <td>3</td>\n",
       "      <td>5</td>\n",
       "    </tr>\n",
       "    <tr>\n",
       "      <th>3</th>\n",
       "      <td>0</td>\n",
       "      <td>5</td>\n",
       "      <td>4</td>\n",
       "      <td>3</td>\n",
       "      <td>3</td>\n",
       "      <td>3</td>\n",
       "      <td>5</td>\n",
       "    </tr>\n",
       "    <tr>\n",
       "      <th>4</th>\n",
       "      <td>0</td>\n",
       "      <td>5</td>\n",
       "      <td>4</td>\n",
       "      <td>3</td>\n",
       "      <td>3</td>\n",
       "      <td>3</td>\n",
       "      <td>5</td>\n",
       "    </tr>\n",
       "  </tbody>\n",
       "</table>\n",
       "</div>"
      ],
      "text/plain": [
       "   Y  X1  X2  X3  X4  X5  X6\n",
       "0  0   3   3   3   4   2   4\n",
       "1  0   3   2   3   5   4   3\n",
       "2  1   5   3   3   3   3   5\n",
       "3  0   5   4   3   3   3   5\n",
       "4  0   5   4   3   3   3   5"
      ]
     },
     "execution_count": 2,
     "metadata": {},
     "output_type": "execute_result"
    }
   ],
   "source": [
    "df.head()"
   ]
  },
  {
   "cell_type": "code",
   "execution_count": 138,
   "id": "05249302",
   "metadata": {},
   "outputs": [],
   "source": [
    "#column names\n",
    "X1 = \"on_time\"\n",
    "X2 = \"contents\"\n",
    "X3 = \"complete_order\"\n",
    "X4 = \"good_price\"\n",
    "X5 = \"satisfied\"\n",
    "X6 = \"app_ease\"\n",
    "Y = \"customer_sentiment\""
   ]
  },
  {
   "cell_type": "code",
   "execution_count": 141,
   "id": "4f1270bb",
   "metadata": {},
   "outputs": [],
   "source": [
    "#rename the columns\n",
    "\n",
    "df.columns = ['customer_sentiment', 'on_time', 'contents', 'complete_order', 'good_price', 'satisfied', 'app_ease']"
   ]
  },
  {
   "cell_type": "code",
   "execution_count": 142,
   "id": "2d50907a",
   "metadata": {},
   "outputs": [
    {
     "data": {
      "text/html": [
       "<div>\n",
       "<style scoped>\n",
       "    .dataframe tbody tr th:only-of-type {\n",
       "        vertical-align: middle;\n",
       "    }\n",
       "\n",
       "    .dataframe tbody tr th {\n",
       "        vertical-align: top;\n",
       "    }\n",
       "\n",
       "    .dataframe thead th {\n",
       "        text-align: right;\n",
       "    }\n",
       "</style>\n",
       "<table border=\"1\" class=\"dataframe\">\n",
       "  <thead>\n",
       "    <tr style=\"text-align: right;\">\n",
       "      <th></th>\n",
       "      <th>customer_sentiment</th>\n",
       "      <th>on_time</th>\n",
       "      <th>contents</th>\n",
       "      <th>complete_order</th>\n",
       "      <th>good_price</th>\n",
       "      <th>satisfied</th>\n",
       "      <th>app_ease</th>\n",
       "    </tr>\n",
       "  </thead>\n",
       "  <tbody>\n",
       "    <tr>\n",
       "      <th>0</th>\n",
       "      <td>0</td>\n",
       "      <td>3</td>\n",
       "      <td>3</td>\n",
       "      <td>3</td>\n",
       "      <td>4</td>\n",
       "      <td>2</td>\n",
       "      <td>4</td>\n",
       "    </tr>\n",
       "    <tr>\n",
       "      <th>1</th>\n",
       "      <td>0</td>\n",
       "      <td>3</td>\n",
       "      <td>2</td>\n",
       "      <td>3</td>\n",
       "      <td>5</td>\n",
       "      <td>4</td>\n",
       "      <td>3</td>\n",
       "    </tr>\n",
       "    <tr>\n",
       "      <th>2</th>\n",
       "      <td>1</td>\n",
       "      <td>5</td>\n",
       "      <td>3</td>\n",
       "      <td>3</td>\n",
       "      <td>3</td>\n",
       "      <td>3</td>\n",
       "      <td>5</td>\n",
       "    </tr>\n",
       "    <tr>\n",
       "      <th>3</th>\n",
       "      <td>0</td>\n",
       "      <td>5</td>\n",
       "      <td>4</td>\n",
       "      <td>3</td>\n",
       "      <td>3</td>\n",
       "      <td>3</td>\n",
       "      <td>5</td>\n",
       "    </tr>\n",
       "    <tr>\n",
       "      <th>4</th>\n",
       "      <td>0</td>\n",
       "      <td>5</td>\n",
       "      <td>4</td>\n",
       "      <td>3</td>\n",
       "      <td>3</td>\n",
       "      <td>3</td>\n",
       "      <td>5</td>\n",
       "    </tr>\n",
       "  </tbody>\n",
       "</table>\n",
       "</div>"
      ],
      "text/plain": [
       "   customer_sentiment  on_time  contents  complete_order  good_price  \\\n",
       "0                   0        3         3               3           4   \n",
       "1                   0        3         2               3           5   \n",
       "2                   1        5         3               3           3   \n",
       "3                   0        5         4               3           3   \n",
       "4                   0        5         4               3           3   \n",
       "\n",
       "   satisfied  app_ease  \n",
       "0          2         4  \n",
       "1          4         3  \n",
       "2          3         5  \n",
       "3          3         5  \n",
       "4          3         5  "
      ]
     },
     "execution_count": 142,
     "metadata": {},
     "output_type": "execute_result"
    }
   ],
   "source": [
    "df.head()"
   ]
  },
  {
   "cell_type": "code",
   "execution_count": 143,
   "id": "548ff2d0",
   "metadata": {},
   "outputs": [
    {
     "name": "stdout",
     "output_type": "stream",
     "text": [
      "(126, 7)\n",
      "882\n"
     ]
    }
   ],
   "source": [
    "print(df.shape)\n",
    "print(df.size)"
   ]
  },
  {
   "cell_type": "code",
   "execution_count": 144,
   "id": "5b7ac819",
   "metadata": {},
   "outputs": [
    {
     "data": {
      "text/html": [
       "<div>\n",
       "<style scoped>\n",
       "    .dataframe tbody tr th:only-of-type {\n",
       "        vertical-align: middle;\n",
       "    }\n",
       "\n",
       "    .dataframe tbody tr th {\n",
       "        vertical-align: top;\n",
       "    }\n",
       "\n",
       "    .dataframe thead th {\n",
       "        text-align: right;\n",
       "    }\n",
       "</style>\n",
       "<table border=\"1\" class=\"dataframe\">\n",
       "  <thead>\n",
       "    <tr style=\"text-align: right;\">\n",
       "      <th></th>\n",
       "      <th>customer_sentiment</th>\n",
       "      <th>on_time</th>\n",
       "      <th>contents</th>\n",
       "      <th>complete_order</th>\n",
       "      <th>good_price</th>\n",
       "      <th>satisfied</th>\n",
       "      <th>app_ease</th>\n",
       "    </tr>\n",
       "  </thead>\n",
       "  <tbody>\n",
       "    <tr>\n",
       "      <th>count</th>\n",
       "      <td>126.000000</td>\n",
       "      <td>126.000000</td>\n",
       "      <td>126.000000</td>\n",
       "      <td>126.000000</td>\n",
       "      <td>126.000000</td>\n",
       "      <td>126.000000</td>\n",
       "      <td>126.000000</td>\n",
       "    </tr>\n",
       "    <tr>\n",
       "      <th>mean</th>\n",
       "      <td>0.547619</td>\n",
       "      <td>4.333333</td>\n",
       "      <td>2.531746</td>\n",
       "      <td>3.309524</td>\n",
       "      <td>3.746032</td>\n",
       "      <td>3.650794</td>\n",
       "      <td>4.253968</td>\n",
       "    </tr>\n",
       "    <tr>\n",
       "      <th>std</th>\n",
       "      <td>0.499714</td>\n",
       "      <td>0.800000</td>\n",
       "      <td>1.114892</td>\n",
       "      <td>1.023440</td>\n",
       "      <td>0.875776</td>\n",
       "      <td>1.147641</td>\n",
       "      <td>0.809311</td>\n",
       "    </tr>\n",
       "    <tr>\n",
       "      <th>min</th>\n",
       "      <td>0.000000</td>\n",
       "      <td>1.000000</td>\n",
       "      <td>1.000000</td>\n",
       "      <td>1.000000</td>\n",
       "      <td>1.000000</td>\n",
       "      <td>1.000000</td>\n",
       "      <td>1.000000</td>\n",
       "    </tr>\n",
       "    <tr>\n",
       "      <th>25%</th>\n",
       "      <td>0.000000</td>\n",
       "      <td>4.000000</td>\n",
       "      <td>2.000000</td>\n",
       "      <td>3.000000</td>\n",
       "      <td>3.000000</td>\n",
       "      <td>3.000000</td>\n",
       "      <td>4.000000</td>\n",
       "    </tr>\n",
       "    <tr>\n",
       "      <th>50%</th>\n",
       "      <td>1.000000</td>\n",
       "      <td>5.000000</td>\n",
       "      <td>3.000000</td>\n",
       "      <td>3.000000</td>\n",
       "      <td>4.000000</td>\n",
       "      <td>4.000000</td>\n",
       "      <td>4.000000</td>\n",
       "    </tr>\n",
       "    <tr>\n",
       "      <th>75%</th>\n",
       "      <td>1.000000</td>\n",
       "      <td>5.000000</td>\n",
       "      <td>3.000000</td>\n",
       "      <td>4.000000</td>\n",
       "      <td>4.000000</td>\n",
       "      <td>4.000000</td>\n",
       "      <td>5.000000</td>\n",
       "    </tr>\n",
       "    <tr>\n",
       "      <th>max</th>\n",
       "      <td>1.000000</td>\n",
       "      <td>5.000000</td>\n",
       "      <td>5.000000</td>\n",
       "      <td>5.000000</td>\n",
       "      <td>5.000000</td>\n",
       "      <td>5.000000</td>\n",
       "      <td>5.000000</td>\n",
       "    </tr>\n",
       "  </tbody>\n",
       "</table>\n",
       "</div>"
      ],
      "text/plain": [
       "       customer_sentiment     on_time    contents  complete_order  good_price  \\\n",
       "count          126.000000  126.000000  126.000000      126.000000  126.000000   \n",
       "mean             0.547619    4.333333    2.531746        3.309524    3.746032   \n",
       "std              0.499714    0.800000    1.114892        1.023440    0.875776   \n",
       "min              0.000000    1.000000    1.000000        1.000000    1.000000   \n",
       "25%              0.000000    4.000000    2.000000        3.000000    3.000000   \n",
       "50%              1.000000    5.000000    3.000000        3.000000    4.000000   \n",
       "75%              1.000000    5.000000    3.000000        4.000000    4.000000   \n",
       "max              1.000000    5.000000    5.000000        5.000000    5.000000   \n",
       "\n",
       "        satisfied    app_ease  \n",
       "count  126.000000  126.000000  \n",
       "mean     3.650794    4.253968  \n",
       "std      1.147641    0.809311  \n",
       "min      1.000000    1.000000  \n",
       "25%      3.000000    4.000000  \n",
       "50%      4.000000    4.000000  \n",
       "75%      4.000000    5.000000  \n",
       "max      5.000000    5.000000  "
      ]
     },
     "execution_count": 144,
     "metadata": {},
     "output_type": "execute_result"
    }
   ],
   "source": [
    "df.describe()"
   ]
  },
  {
   "cell_type": "code",
   "execution_count": 145,
   "id": "e20630d2",
   "metadata": {},
   "outputs": [
    {
     "data": {
      "text/plain": [
       "customer_sentiment    0\n",
       "on_time               0\n",
       "contents              0\n",
       "complete_order        0\n",
       "good_price            0\n",
       "satisfied             0\n",
       "app_ease              0\n",
       "dtype: int64"
      ]
     },
     "execution_count": 145,
     "metadata": {},
     "output_type": "execute_result"
    }
   ],
   "source": [
    "# checks for missing values in the dataset\n",
    "df.isnull().sum()"
   ]
  },
  {
   "cell_type": "code",
   "execution_count": 146,
   "id": "7401ecb8",
   "metadata": {},
   "outputs": [
    {
     "name": "stdout",
     "output_type": "stream",
     "text": [
      "[3 5 4 1]\n"
     ]
    }
   ],
   "source": [
    "print(df['on_time'].unique()) #the unique values for the columns"
   ]
  },
  {
   "cell_type": "code",
   "execution_count": 147,
   "id": "a78784bb",
   "metadata": {},
   "outputs": [
    {
     "name": "stdout",
     "output_type": "stream",
     "text": [
      "[3 2 4 5 1]\n"
     ]
    }
   ],
   "source": [
    "print(df['contents'].unique()) #the unique values for the columns"
   ]
  },
  {
   "cell_type": "code",
   "execution_count": 148,
   "id": "15ae0254",
   "metadata": {},
   "outputs": [
    {
     "name": "stdout",
     "output_type": "stream",
     "text": [
      "[3 2 4 5 1]\n"
     ]
    }
   ],
   "source": [
    "print(df['complete_order'].unique()) #the unique values for the columns"
   ]
  },
  {
   "cell_type": "code",
   "execution_count": 149,
   "id": "1330b8cc",
   "metadata": {},
   "outputs": [
    {
     "name": "stdout",
     "output_type": "stream",
     "text": [
      "[4 5 3 2 1]\n"
     ]
    }
   ],
   "source": [
    "print(df['good_price'].unique()) #the unique values for the columns"
   ]
  },
  {
   "cell_type": "code",
   "execution_count": 150,
   "id": "37699ed7",
   "metadata": {},
   "outputs": [
    {
     "name": "stdout",
     "output_type": "stream",
     "text": [
      "[2 4 3 5 1]\n"
     ]
    }
   ],
   "source": [
    "print(df['satisfied'].unique()) #the unique values for the columns"
   ]
  },
  {
   "cell_type": "code",
   "execution_count": 151,
   "id": "2a3dcfcc",
   "metadata": {},
   "outputs": [
    {
     "name": "stdout",
     "output_type": "stream",
     "text": [
      "[4 3 5 2 1]\n"
     ]
    }
   ],
   "source": [
    "print(df['app_ease'].unique()) #the unique values for the columns"
   ]
  },
  {
   "cell_type": "code",
   "execution_count": null,
   "id": "45a11f85",
   "metadata": {},
   "outputs": [],
   "source": []
  },
  {
   "cell_type": "code",
   "execution_count": 152,
   "id": "75a1e4fa",
   "metadata": {},
   "outputs": [
    {
     "data": {
      "text/html": [
       "<div>\n",
       "<style scoped>\n",
       "    .dataframe tbody tr th:only-of-type {\n",
       "        vertical-align: middle;\n",
       "    }\n",
       "\n",
       "    .dataframe tbody tr th {\n",
       "        vertical-align: top;\n",
       "    }\n",
       "\n",
       "    .dataframe thead th {\n",
       "        text-align: right;\n",
       "    }\n",
       "</style>\n",
       "<table border=\"1\" class=\"dataframe\">\n",
       "  <thead>\n",
       "    <tr style=\"text-align: right;\">\n",
       "      <th></th>\n",
       "      <th>customer_sentiment</th>\n",
       "      <th>on_time</th>\n",
       "      <th>contents</th>\n",
       "      <th>complete_order</th>\n",
       "      <th>good_price</th>\n",
       "      <th>satisfied</th>\n",
       "      <th>app_ease</th>\n",
       "    </tr>\n",
       "  </thead>\n",
       "  <tbody>\n",
       "    <tr>\n",
       "      <th>customer_sentiment</th>\n",
       "      <td>1.000000</td>\n",
       "      <td>0.280160</td>\n",
       "      <td>-0.024274</td>\n",
       "      <td>0.150838</td>\n",
       "      <td>0.064415</td>\n",
       "      <td>0.224522</td>\n",
       "      <td>0.167669</td>\n",
       "    </tr>\n",
       "    <tr>\n",
       "      <th>on_time</th>\n",
       "      <td>0.280160</td>\n",
       "      <td>1.000000</td>\n",
       "      <td>0.059797</td>\n",
       "      <td>0.283358</td>\n",
       "      <td>0.087541</td>\n",
       "      <td>0.432772</td>\n",
       "      <td>0.411873</td>\n",
       "    </tr>\n",
       "    <tr>\n",
       "      <th>contents</th>\n",
       "      <td>-0.024274</td>\n",
       "      <td>0.059797</td>\n",
       "      <td>1.000000</td>\n",
       "      <td>0.184129</td>\n",
       "      <td>0.114838</td>\n",
       "      <td>0.039996</td>\n",
       "      <td>-0.062205</td>\n",
       "    </tr>\n",
       "    <tr>\n",
       "      <th>complete_order</th>\n",
       "      <td>0.150838</td>\n",
       "      <td>0.283358</td>\n",
       "      <td>0.184129</td>\n",
       "      <td>1.000000</td>\n",
       "      <td>0.302618</td>\n",
       "      <td>0.358397</td>\n",
       "      <td>0.203750</td>\n",
       "    </tr>\n",
       "    <tr>\n",
       "      <th>good_price</th>\n",
       "      <td>0.064415</td>\n",
       "      <td>0.087541</td>\n",
       "      <td>0.114838</td>\n",
       "      <td>0.302618</td>\n",
       "      <td>1.000000</td>\n",
       "      <td>0.293115</td>\n",
       "      <td>0.215888</td>\n",
       "    </tr>\n",
       "    <tr>\n",
       "      <th>satisfied</th>\n",
       "      <td>0.224522</td>\n",
       "      <td>0.432772</td>\n",
       "      <td>0.039996</td>\n",
       "      <td>0.358397</td>\n",
       "      <td>0.293115</td>\n",
       "      <td>1.000000</td>\n",
       "      <td>0.320195</td>\n",
       "    </tr>\n",
       "    <tr>\n",
       "      <th>app_ease</th>\n",
       "      <td>0.167669</td>\n",
       "      <td>0.411873</td>\n",
       "      <td>-0.062205</td>\n",
       "      <td>0.203750</td>\n",
       "      <td>0.215888</td>\n",
       "      <td>0.320195</td>\n",
       "      <td>1.000000</td>\n",
       "    </tr>\n",
       "  </tbody>\n",
       "</table>\n",
       "</div>"
      ],
      "text/plain": [
       "                    customer_sentiment   on_time  contents  complete_order  \\\n",
       "customer_sentiment            1.000000  0.280160 -0.024274        0.150838   \n",
       "on_time                       0.280160  1.000000  0.059797        0.283358   \n",
       "contents                     -0.024274  0.059797  1.000000        0.184129   \n",
       "complete_order                0.150838  0.283358  0.184129        1.000000   \n",
       "good_price                    0.064415  0.087541  0.114838        0.302618   \n",
       "satisfied                     0.224522  0.432772  0.039996        0.358397   \n",
       "app_ease                      0.167669  0.411873 -0.062205        0.203750   \n",
       "\n",
       "                    good_price  satisfied  app_ease  \n",
       "customer_sentiment    0.064415   0.224522  0.167669  \n",
       "on_time               0.087541   0.432772  0.411873  \n",
       "contents              0.114838   0.039996 -0.062205  \n",
       "complete_order        0.302618   0.358397  0.203750  \n",
       "good_price            1.000000   0.293115  0.215888  \n",
       "satisfied             0.293115   1.000000  0.320195  \n",
       "app_ease              0.215888   0.320195  1.000000  "
      ]
     },
     "execution_count": 152,
     "metadata": {},
     "output_type": "execute_result"
    }
   ],
   "source": [
    "df.corr()  #checks for the correlation of the variables against each other"
   ]
  },
  {
   "cell_type": "code",
   "execution_count": 153,
   "id": "3734f94c",
   "metadata": {},
   "outputs": [
    {
     "data": {
      "text/plain": [
       "<AxesSubplot:>"
      ]
     },
     "execution_count": 153,
     "metadata": {},
     "output_type": "execute_result"
    },
    {
     "data": {
      "image/png": "[encoded data removed]",
      "text/plain": [
       "<Figure size 720x720 with 2 Axes>"
      ]
     },
     "metadata": {},
     "output_type": "display_data"
    }
   ],
   "source": [
    "#plot correlation matrix heatmap\n",
    "sns.set_style(\"whitegrid\")\n",
    "plt.figure(figsize=(10,10))\n",
    "sns.heatmap(df.corr(), annot=True, cmap='Greens')"
   ]
  },
  {
   "cell_type": "code",
   "execution_count": 154,
   "id": "2570ae81",
   "metadata": {},
   "outputs": [
    {
     "name": "stderr",
     "output_type": "stream",
     "text": [
      "C:\\Users\\Tooman\\anaconda3\\lib\\site-packages\\seaborn\\_decorators.py:36: FutureWarning: Pass the following variable as a keyword arg: x. From version 0.12, the only valid positional argument will be `data`, and passing other arguments without an explicit keyword will result in an error or misinterpretation.\n",
      "  warnings.warn(\n"
     ]
    },
    {
     "data": {
      "image/png": "[encoded data removed]",
      "text/plain": [
       "<Figure size 432x288 with 1 Axes>"
      ]
     },
     "metadata": {},
     "output_type": "display_data"
    }
   ],
   "source": [
    "sns.countplot(df[\"customer_sentiment\"],orient=\"V\")\n",
    "plt.show()"
   ]
  },
  {
   "cell_type": "code",
   "execution_count": 155,
   "id": "33788572",
   "metadata": {},
   "outputs": [
    {
     "data": {
      "text/plain": [
       "1    69\n",
       "0    57\n",
       "Name: customer_sentiment, dtype: int64"
      ]
     },
     "execution_count": 155,
     "metadata": {},
     "output_type": "execute_result"
    }
   ],
   "source": [
    "df['customer_sentiment'].value_counts()"
   ]
  },
  {
   "cell_type": "code",
   "execution_count": 156,
   "id": "c3d46a98",
   "metadata": {},
   "outputs": [
    {
     "data": {
      "image/png": "[encoded data removed]",
      "text/plain": [
       "<Figure size 144x432 with 1 Axes>"
      ]
     },
     "metadata": {},
     "output_type": "display_data"
    }
   ],
   "source": [
    "import matplotlib.pyplot as plt\n",
    "\n",
    "# Sample data\n",
    "Target = ['customer_sentiment']\n",
    "true_counts = [69]  # Counts of True values for each feature\n",
    "false_counts = [57]  # Counts of False values for each feature\n",
    "\n",
    "# Plotting\n",
    "plt.figure(figsize=(2, 6))\n",
    "\n",
    "# Stacked bar chart\n",
    "plt.bar(Target, true_counts, color='green', label='True')\n",
    "plt.bar(Target, false_counts, bottom=true_counts, color='red', label='False')\n",
    "\n",
    "plt.xlabel('Targets')\n",
    "plt.ylabel('Count')\n",
    "plt.title('Stacked Bar Chart of Boolean Variable with 5 Features')\n",
    "plt.legend()\n",
    "\n",
    "plt.xticks(rotation=45, ha='right')\n",
    "plt.tight_layout()"
   ]
  },
  {
   "cell_type": "code",
   "execution_count": 158,
   "id": "873debcd",
   "metadata": {},
   "outputs": [
    {
     "name": "stdout",
     "output_type": "stream",
     "text": [
      "Feature: 0, Score: 0.18464\n",
      "Feature: 1, Score: 0.17206\n",
      "Feature: 2, Score: 0.18673\n",
      "Feature: 3, Score: 0.14201\n",
      "Feature: 4, Score: 0.19050\n",
      "Feature: 5, Score: 0.12405\n"
     ]
    },
    {
     "name": "stderr",
     "output_type": "stream",
     "text": [
      "C:\\Users\\Tooman\\AppData\\Local\\Temp/ipykernel_18720/2555027443.py:10: DataConversionWarning: A column-vector y was passed when a 1d array was expected. Please change the shape of y to (n_samples,), for example using ravel().\n",
      "  model.fit(X, y)\n"
     ]
    },
    {
     "data": {
      "image/png": "[encoded data removed]",
      "text/plain": [
       "<Figure size 432x288 with 1 Axes>"
      ]
     },
     "metadata": {},
     "output_type": "display_data"
    }
   ],
   "source": [
    "# random forest for feature importance on a regression problem\n",
    "# define dataset\n",
    "features = ['on_time', 'contents', 'complete_order', 'good_price', 'satisfied', 'app_ease']\n",
    "\n",
    "X = df.loc[:, features]\n",
    "y = df.loc[:, ['customer_sentiment']]\n",
    "# define the model\n",
    "model = RandomForestRegressor()\n",
    "# fit the model\n",
    "model.fit(X, y)\n",
    "# get importance\n",
    "importance = model.feature_importances_\n",
    "# summarize feature importance\n",
    "for i,v in enumerate(importance):\n",
    " print('Feature: %0d, Score: %.5f' % (i,v))\n",
    "# plot feature importance\n",
    "pyplot.bar([x for x in range(len(importance))], importance)\n",
    "pyplot.show()"
   ]
  },
  {
   "cell_type": "code",
   "execution_count": 161,
   "id": "99805e3a",
   "metadata": {},
   "outputs": [
    {
     "data": {
      "text/plain": [
       "Text(0.5, 1.0, 'Feature Importance')"
      ]
     },
     "execution_count": 161,
     "metadata": {},
     "output_type": "execute_result"
    },
    {
     "data": {
      "image/png": "[encoded data removed]",
      "text/plain": [
       "<Figure size 864x432 with 1 Axes>"
      ]
     },
     "metadata": {},
     "output_type": "display_data"
    }
   ],
   "source": [
    "feature_importance = model.feature_importances_\n",
    "sorted_idx = np.argsort(feature_importance)\n",
    "fig = plt.figure(figsize=(12, 6))\n",
    "plt.barh(range(len(sorted_idx)), feature_importance[sorted_idx], align='center')\n",
    "plt.yticks(range(len(sorted_idx)), np.array(X_test.columns)[sorted_idx])\n",
    "plt.title('Feature Importance')"
   ]
  },
  {
   "cell_type": "markdown",
   "id": "7595cc79",
   "metadata": {},
   "source": [
    "## Modeling"
   ]
  },
  {
   "cell_type": "code",
   "execution_count": 160,
   "id": "15619be5",
   "metadata": {},
   "outputs": [],
   "source": [
    "# Split the data into a training set and a test set\n",
    "X_train, X_test, y_train, y_test = train_test_split(X, y, test_size=0.20, random_state=0, stratify=y)"
   ]
  },
  {
   "cell_type": "code",
   "execution_count": 166,
   "id": "7fabfdcc",
   "metadata": {},
   "outputs": [],
   "source": [
    "scaler = StandardScaler()\n",
    "X_train_scaled = scaler.fit_transform(X_train)\n",
    "X_test_scaled = scaler.transform(X_test)"
   ]
  },
  {
   "cell_type": "code",
   "execution_count": 167,
   "id": "604723df",
   "metadata": {},
   "outputs": [],
   "source": [
    "# Define the algorithms to use for modeling\n",
    "model1 = LogisticRegression()\n",
    "model2 = RandomForestClassifier(random_state=0)\n",
    "model3 = AdaBoostClassifier(n_estimators=5)\n",
    "model4 = KNeighborsClassifier()\n",
    "model5 = SVC(kernel='linear')\n",
    "model6 = XGBClassifier()"
   ]
  },
  {
   "cell_type": "code",
   "execution_count": 187,
   "id": "6bcd3290",
   "metadata": {},
   "outputs": [
    {
     "name": "stderr",
     "output_type": "stream",
     "text": [
      "C:\\Users\\Tooman\\anaconda3\\lib\\site-packages\\sklearn\\utils\\validation.py:63: DataConversionWarning: A column-vector y was passed when a 1d array was expected. Please change the shape of y to (n_samples, ), for example using ravel().\n",
      "  return f(*args, **kwargs)\n",
      "C:\\Users\\Tooman\\AppData\\Local\\Temp/ipykernel_18720/2816039474.py:3: DataConversionWarning: A column-vector y was passed when a 1d array was expected. Please change the shape of y to (n_samples,), for example using ravel().\n",
      "  model2.fit(X_train_scaled,y_train)\n",
      "C:\\Users\\Tooman\\anaconda3\\lib\\site-packages\\sklearn\\utils\\validation.py:63: DataConversionWarning: A column-vector y was passed when a 1d array was expected. Please change the shape of y to (n_samples, ), for example using ravel().\n",
      "  return f(*args, **kwargs)\n",
      "C:\\Users\\Tooman\\anaconda3\\lib\\site-packages\\sklearn\\neighbors\\_classification.py:179: DataConversionWarning: A column-vector y was passed when a 1d array was expected. Please change the shape of y to (n_samples,), for example using ravel().\n",
      "  return self._fit(X, y)\n",
      "C:\\Users\\Tooman\\anaconda3\\lib\\site-packages\\sklearn\\utils\\validation.py:63: DataConversionWarning: A column-vector y was passed when a 1d array was expected. Please change the shape of y to (n_samples, ), for example using ravel().\n",
      "  return f(*args, **kwargs)\n"
     ]
    },
    {
     "data": {
      "text/plain": [
       "XGBClassifier(base_score=None, booster=None, callbacks=None,\n",
       "              colsample_bylevel=None, colsample_bynode=None,\n",
       "              colsample_bytree=None, device=None, early_stopping_rounds=None,\n",
       "              enable_categorical=False, eval_metric=None, feature_types=None,\n",
       "              gamma=None, grow_policy=None, importance_type=None,\n",
       "              interaction_constraints=None, learning_rate=None, max_bin=None,\n",
       "              max_cat_threshold=None, max_cat_to_onehot=None,\n",
       "              max_delta_step=None, max_depth=None, max_leaves=None,\n",
       "              min_child_weight=None, missing=nan, monotone_constraints=None,\n",
       "              multi_strategy=None, n_estimators=None, n_jobs=None,\n",
       "              num_parallel_tree=None, random_state=None, ...)"
      ]
     },
     "execution_count": 187,
     "metadata": {},
     "output_type": "execute_result"
    }
   ],
   "source": [
    "# Train the model on the training set\n",
    "model1.fit(X_train_scaled,y_train)\n",
    "model2.fit(X_train_scaled,y_train)\n",
    "model3.fit(X_train_scaled,y_train)\n",
    "model4.fit(X_train_scaled,y_train)\n",
    "model5.fit(X_train_scaled,y_train)\n",
    "model6.fit(X_train_scaled,y_train)"
   ]
  },
  {
   "cell_type": "code",
   "execution_count": 188,
   "id": "5fe6958d",
   "metadata": {},
   "outputs": [],
   "source": [
    "# Prediction for training data\n",
    "y_train_pred1 = model1.predict(X_train_scaled)\n",
    "y_train_pred2 = model2.predict(X_train_scaled)\n",
    "y_train_pred3 = model3.predict(X_train_scaled)\n",
    "y_train_pred4 = model4.predict(X_train_scaled)\n",
    "y_train_pred5 = model5.predict(X_train_scaled)\n",
    "y_train_pred6 = model6.predict(X_train_scaled)"
   ]
  },
  {
   "cell_type": "code",
   "execution_count": 189,
   "id": "d4d52844",
   "metadata": {},
   "outputs": [
    {
     "name": "stdout",
     "output_type": "stream",
     "text": [
      "0.61\n",
      "0.96\n",
      "0.64\n",
      "0.74\n",
      "0.63\n",
      "0.63\n"
     ]
    }
   ],
   "source": [
    "# Check for training model accuracy\n",
    "print(model1.score(X_train_scaled,y_train)) #Logistic Regression\n",
    "print(model2.score(X_train_scaled,y_train)) #Random Forest Classifier\n",
    "print(model3.score(X_train_scaled,y_train)) #AdaBoost Classifier\n",
    "print(model4.score(X_train_scaled,y_train)) #KNearest Neighbors Classifier\n",
    "print(model5.score(X_train_scaled,y_train)) #Support Vector Classifier\n",
    "print(model5.score(X_train_scaled,y_train)) #XGBoost Classifier"
   ]
  },
  {
   "cell_type": "code",
   "execution_count": 171,
   "id": "115c0d61",
   "metadata": {},
   "outputs": [],
   "source": [
    "# Prediction for test\n",
    "y_pred1 = model1.predict(X_test)\n",
    "y_pred2 = model2.predict(X_test)\n",
    "y_pred3 = model3.predict(X_test)\n",
    "y_pred4 = model4.predict(X_test)\n",
    "y_pred5 = model5.predict(X_test)\n",
    "y_pred6 = model6.predict(X_test)"
   ]
  },
  {
   "cell_type": "code",
   "execution_count": 190,
   "id": "a9c0b4e9",
   "metadata": {},
   "outputs": [
    {
     "name": "stdout",
     "output_type": "stream",
     "text": [
      "0.5384615384615384\n",
      "0.6538461538461539\n",
      "0.5769230769230769\n",
      "0.5384615384615384\n",
      "0.6153846153846154\n",
      "0.6153846153846154\n"
     ]
    }
   ],
   "source": [
    "# Check for test model accuracy\n",
    "print(model1.score(X_test_scaled,y_test)) #Logistic Regression\n",
    "print(model2.score(X_test_scaled,y_test)) #Random Forest Classifier\n",
    "print(model3.score(X_test_scaled,y_test)) #AdaBoost Classifier\n",
    "print(model4.score(X_test_scaled,y_test)) #KNearest Neighbors Classifier\n",
    "print(model5.score(X_test_scaled,y_test)) #Support Vector Classifier\n",
    "print(model6.score(X_test_scaled,y_test)) #XGBoost Classifier"
   ]
  },
  {
   "cell_type": "code",
   "execution_count": 191,
   "id": "d267e41f",
   "metadata": {},
   "outputs": [],
   "source": [
    "# Create classification Report for the train data"
   ]
  },
  {
   "cell_type": "code",
   "execution_count": 194,
   "id": "3266ff28",
   "metadata": {},
   "outputs": [
    {
     "name": "stdout",
     "output_type": "stream",
     "text": [
      "              precision    recall  f1-score   support\n",
      "\n",
      "           0       0.58      0.47      0.52        45\n",
      "           1       0.62      0.73      0.67        55\n",
      "\n",
      "    accuracy                           0.61       100\n",
      "   macro avg       0.60      0.60      0.60       100\n",
      "weighted avg       0.61      0.61      0.60       100\n",
      "\n"
     ]
    }
   ],
   "source": [
    "print(classification_report(y_train, y_train_pred1))"
   ]
  },
  {
   "cell_type": "code",
   "execution_count": 195,
   "id": "27858a68",
   "metadata": {},
   "outputs": [
    {
     "name": "stdout",
     "output_type": "stream",
     "text": [
      "              precision    recall  f1-score   support\n",
      "\n",
      "           0       0.96      0.96      0.96        45\n",
      "           1       0.96      0.96      0.96        55\n",
      "\n",
      "    accuracy                           0.96       100\n",
      "   macro avg       0.96      0.96      0.96       100\n",
      "weighted avg       0.96      0.96      0.96       100\n",
      "\n"
     ]
    }
   ],
   "source": [
    "print(classification_report(y_train, y_train_pred2))"
   ]
  },
  {
   "cell_type": "code",
   "execution_count": 196,
   "id": "a124399d",
   "metadata": {},
   "outputs": [
    {
     "name": "stdout",
     "output_type": "stream",
     "text": [
      "              precision    recall  f1-score   support\n",
      "\n",
      "           0       0.60      0.58      0.59        45\n",
      "           1       0.67      0.69      0.68        55\n",
      "\n",
      "    accuracy                           0.64       100\n",
      "   macro avg       0.64      0.63      0.63       100\n",
      "weighted avg       0.64      0.64      0.64       100\n",
      "\n"
     ]
    }
   ],
   "source": [
    "print(classification_report(y_train, y_train_pred3))"
   ]
  },
  {
   "cell_type": "code",
   "execution_count": 197,
   "id": "450b569b",
   "metadata": {},
   "outputs": [
    {
     "name": "stdout",
     "output_type": "stream",
     "text": [
      "              precision    recall  f1-score   support\n",
      "\n",
      "           0       0.72      0.69      0.70        45\n",
      "           1       0.75      0.78      0.77        55\n",
      "\n",
      "    accuracy                           0.74       100\n",
      "   macro avg       0.74      0.74      0.74       100\n",
      "weighted avg       0.74      0.74      0.74       100\n",
      "\n"
     ]
    }
   ],
   "source": [
    "print(classification_report(y_train, y_train_pred4))"
   ]
  },
  {
   "cell_type": "code",
   "execution_count": 198,
   "id": "a1fa2447",
   "metadata": {},
   "outputs": [
    {
     "name": "stdout",
     "output_type": "stream",
     "text": [
      "              precision    recall  f1-score   support\n",
      "\n",
      "           0       0.63      0.42      0.51        45\n",
      "           1       0.63      0.80      0.70        55\n",
      "\n",
      "    accuracy                           0.63       100\n",
      "   macro avg       0.63      0.61      0.61       100\n",
      "weighted avg       0.63      0.63      0.62       100\n",
      "\n"
     ]
    }
   ],
   "source": [
    "print(classification_report(y_train, y_train_pred5))"
   ]
  },
  {
   "cell_type": "code",
   "execution_count": 199,
   "id": "e31659ae",
   "metadata": {},
   "outputs": [
    {
     "name": "stdout",
     "output_type": "stream",
     "text": [
      "              precision    recall  f1-score   support\n",
      "\n",
      "           0       0.95      0.91      0.93        45\n",
      "           1       0.93      0.96      0.95        55\n",
      "\n",
      "    accuracy                           0.94       100\n",
      "   macro avg       0.94      0.94      0.94       100\n",
      "weighted avg       0.94      0.94      0.94       100\n",
      "\n"
     ]
    }
   ],
   "source": [
    "print(classification_report(y_train, y_train_pred6))"
   ]
  },
  {
   "cell_type": "code",
   "execution_count": 200,
   "id": "0a682406",
   "metadata": {},
   "outputs": [],
   "source": [
    "# Create classification Report for test"
   ]
  },
  {
   "cell_type": "code",
   "execution_count": 201,
   "id": "8ae49563",
   "metadata": {},
   "outputs": [
    {
     "name": "stdout",
     "output_type": "stream",
     "text": [
      "              precision    recall  f1-score   support\n",
      "\n",
      "           0       0.50      0.42      0.45        12\n",
      "           1       0.56      0.64      0.60        14\n",
      "\n",
      "    accuracy                           0.54        26\n",
      "   macro avg       0.53      0.53      0.53        26\n",
      "weighted avg       0.53      0.54      0.53        26\n",
      "\n"
     ]
    }
   ],
   "source": [
    "print(classification_report(y_test, y_pred1))"
   ]
  },
  {
   "cell_type": "code",
   "execution_count": 202,
   "id": "0f991d9d",
   "metadata": {},
   "outputs": [
    {
     "name": "stdout",
     "output_type": "stream",
     "text": [
      "              precision    recall  f1-score   support\n",
      "\n",
      "           0       0.67      0.50      0.57        12\n",
      "           1       0.65      0.79      0.71        14\n",
      "\n",
      "    accuracy                           0.65        26\n",
      "   macro avg       0.66      0.64      0.64        26\n",
      "weighted avg       0.66      0.65      0.65        26\n",
      "\n"
     ]
    }
   ],
   "source": [
    "print(classification_report(y_test, y_pred2))"
   ]
  },
  {
   "cell_type": "code",
   "execution_count": 203,
   "id": "caa98b8e",
   "metadata": {},
   "outputs": [
    {
     "name": "stdout",
     "output_type": "stream",
     "text": [
      "              precision    recall  f1-score   support\n",
      "\n",
      "           0       0.56      0.42      0.48        12\n",
      "           1       0.59      0.71      0.65        14\n",
      "\n",
      "    accuracy                           0.58        26\n",
      "   macro avg       0.57      0.57      0.56        26\n",
      "weighted avg       0.57      0.58      0.57        26\n",
      "\n"
     ]
    }
   ],
   "source": [
    "print(classification_report(y_test, y_pred3))"
   ]
  },
  {
   "cell_type": "code",
   "execution_count": 204,
   "id": "752f7318",
   "metadata": {},
   "outputs": [
    {
     "name": "stdout",
     "output_type": "stream",
     "text": [
      "              precision    recall  f1-score   support\n",
      "\n",
      "           0       0.50      0.25      0.33        12\n",
      "           1       0.55      0.79      0.65        14\n",
      "\n",
      "    accuracy                           0.54        26\n",
      "   macro avg       0.53      0.52      0.49        26\n",
      "weighted avg       0.53      0.54      0.50        26\n",
      "\n"
     ]
    }
   ],
   "source": [
    "print(classification_report(y_test, y_pred4))"
   ]
  },
  {
   "cell_type": "code",
   "execution_count": 205,
   "id": "73b50fc1",
   "metadata": {},
   "outputs": [
    {
     "name": "stdout",
     "output_type": "stream",
     "text": [
      "              precision    recall  f1-score   support\n",
      "\n",
      "           0       0.62      0.42      0.50        12\n",
      "           1       0.61      0.79      0.69        14\n",
      "\n",
      "    accuracy                           0.62        26\n",
      "   macro avg       0.62      0.60      0.59        26\n",
      "weighted avg       0.62      0.62      0.60        26\n",
      "\n"
     ]
    }
   ],
   "source": [
    "print(classification_report(y_test, y_pred5))"
   ]
  },
  {
   "cell_type": "code",
   "execution_count": 206,
   "id": "38ec937b",
   "metadata": {},
   "outputs": [
    {
     "name": "stdout",
     "output_type": "stream",
     "text": [
      "              precision    recall  f1-score   support\n",
      "\n",
      "           0       0.60      0.50      0.55        12\n",
      "           1       0.62      0.71      0.67        14\n",
      "\n",
      "    accuracy                           0.62        26\n",
      "   macro avg       0.61      0.61      0.61        26\n",
      "weighted avg       0.61      0.62      0.61        26\n",
      "\n"
     ]
    }
   ],
   "source": [
    "print(classification_report(y_test, y_pred6))"
   ]
  },
  {
   "cell_type": "code",
   "execution_count": null,
   "id": "34171b4e",
   "metadata": {},
   "outputs": [],
   "source": []
  },
  {
   "cell_type": "code",
   "execution_count": 80,
   "id": "a2e9de0a",
   "metadata": {},
   "outputs": [],
   "source": [
    "# Check for model accuracy using the most important features and specific models (random forest and xgboost models)."
   ]
  },
  {
   "cell_type": "code",
   "execution_count": 228,
   "id": "733980f0",
   "metadata": {},
   "outputs": [
    {
     "name": "stdout",
     "output_type": "stream",
     "text": [
      "Feature: 0, Score: 0.28875\n",
      "Feature: 1, Score: 0.33060\n",
      "Feature: 2, Score: 0.38065\n"
     ]
    },
    {
     "name": "stderr",
     "output_type": "stream",
     "text": [
      "C:\\Users\\Tooman\\AppData\\Local\\Temp/ipykernel_18720/2972146258.py:11: DataConversionWarning: A column-vector y was passed when a 1d array was expected. Please change the shape of y to (n_samples,), for example using ravel().\n",
      "  model.fit(X, y)\n"
     ]
    },
    {
     "data": {
      "image/png": "[encoded data removed]",
      "text/plain": [
       "<Figure size 432x288 with 1 Axes>"
      ]
     },
     "metadata": {},
     "output_type": "display_data"
    }
   ],
   "source": [
    "#choose reduced number of features\n",
    "features = ['on_time','contents','satisfied'] #['on_time', 'contents', 'complete_order', 'good_price', 'satisfied', 'app_ease']\n",
    "\n",
    "\n",
    "\n",
    "X = df.loc[:, features]\n",
    "y = df.loc[:, ['customer_sentiment']]\n",
    "# define the model\n",
    "model = RandomForestRegressor()\n",
    "# fit the model\n",
    "model.fit(X, y)\n",
    "# get importance\n",
    "importance = model.feature_importances_\n",
    "# summarize feature importance\n",
    "for i,v in enumerate(importance):\n",
    " print('Feature: %0d, Score: %.5f' % (i,v))\n",
    "# plot feature importance\n",
    "pyplot.bar([x for x in range(len(importance))], importance)\n",
    "pyplot.show()"
   ]
  },
  {
   "cell_type": "code",
   "execution_count": 229,
   "id": "71ee079a",
   "metadata": {},
   "outputs": [],
   "source": [
    "# Split the data into a training set and a test set\n",
    "X_train, X_test, y_train, y_test = train_test_split(X, y, test_size=0.20, random_state=0)"
   ]
  },
  {
   "cell_type": "code",
   "execution_count": 230,
   "id": "f715c587",
   "metadata": {},
   "outputs": [],
   "source": [
    "scaler = StandardScaler()\n",
    "X_train_scaled = scaler.fit_transform(X_train)\n",
    "X_test_scaled = scaler.transform(X_test)"
   ]
  },
  {
   "cell_type": "code",
   "execution_count": 231,
   "id": "3678b253",
   "metadata": {},
   "outputs": [],
   "source": [
    "model = RandomForestClassifier(random_state=0, n_estimators = 100, max_depth = 5)"
   ]
  },
  {
   "cell_type": "code",
   "execution_count": 232,
   "id": "abda1e54",
   "metadata": {},
   "outputs": [
    {
     "name": "stderr",
     "output_type": "stream",
     "text": [
      "C:\\Users\\Tooman\\AppData\\Local\\Temp/ipykernel_18720/2109830133.py:1: DataConversionWarning: A column-vector y was passed when a 1d array was expected. Please change the shape of y to (n_samples,), for example using ravel().\n",
      "  model.fit(X_train_scaled,y_train)\n"
     ]
    },
    {
     "data": {
      "text/plain": [
       "RandomForestClassifier(max_depth=5, random_state=0)"
      ]
     },
     "execution_count": 232,
     "metadata": {},
     "output_type": "execute_result"
    }
   ],
   "source": [
    "model.fit(X_train_scaled,y_train)"
   ]
  },
  {
   "cell_type": "code",
   "execution_count": 233,
   "id": "23b5a6b5",
   "metadata": {},
   "outputs": [],
   "source": [
    "y_train_pred = model.predict(X_train_scaled)"
   ]
  },
  {
   "cell_type": "code",
   "execution_count": 234,
   "id": "bc4cea03",
   "metadata": {},
   "outputs": [
    {
     "name": "stdout",
     "output_type": "stream",
     "text": [
      "0.79\n"
     ]
    }
   ],
   "source": [
    "print(model.score(X_train_scaled,y_train))"
   ]
  },
  {
   "cell_type": "code",
   "execution_count": 235,
   "id": "8dad8505",
   "metadata": {},
   "outputs": [],
   "source": [
    "y_pred = model.predict(X_test_scaled)"
   ]
  },
  {
   "cell_type": "code",
   "execution_count": 236,
   "id": "82f9d7ac",
   "metadata": {},
   "outputs": [
    {
     "name": "stdout",
     "output_type": "stream",
     "text": [
      "0.6923076923076923\n"
     ]
    }
   ],
   "source": [
    "print(model.score(X_test_scaled,y_test))"
   ]
  },
  {
   "cell_type": "code",
   "execution_count": 237,
   "id": "ac5ccced",
   "metadata": {},
   "outputs": [
    {
     "name": "stdout",
     "output_type": "stream",
     "text": [
      "              precision    recall  f1-score   support\n",
      "\n",
      "           0       0.85      0.64      0.73        44\n",
      "           1       0.76      0.91      0.83        56\n",
      "\n",
      "    accuracy                           0.79       100\n",
      "   macro avg       0.80      0.77      0.78       100\n",
      "weighted avg       0.80      0.79      0.78       100\n",
      "\n"
     ]
    }
   ],
   "source": [
    "print(classification_report(y_train, y_train_pred))"
   ]
  },
  {
   "cell_type": "code",
   "execution_count": 238,
   "id": "72432258",
   "metadata": {},
   "outputs": [
    {
     "name": "stdout",
     "output_type": "stream",
     "text": [
      "              precision    recall  f1-score   support\n",
      "\n",
      "           0       0.78      0.54      0.64        13\n",
      "           1       0.65      0.85      0.73        13\n",
      "\n",
      "    accuracy                           0.69        26\n",
      "   macro avg       0.71      0.69      0.68        26\n",
      "weighted avg       0.71      0.69      0.68        26\n",
      "\n"
     ]
    }
   ],
   "source": [
    "print(classification_report(y_test, y_pred))"
   ]
  },
  {
   "cell_type": "code",
   "execution_count": null,
   "id": "12213433",
   "metadata": {},
   "outputs": [],
   "source": []
  },
  {
   "cell_type": "markdown",
   "id": "5afc4a21",
   "metadata": {},
   "source": [
    "#### Check model using XGboost and metrics"
   ]
  },
  {
   "cell_type": "code",
   "execution_count": 239,
   "id": "d5a79239",
   "metadata": {},
   "outputs": [],
   "source": [
    "model61 = XGBClassifier(learning_rate=0.1, n_estimators=5000, max_depth = 5, eval_metric='auc', verbosity=1)"
   ]
  },
  {
   "cell_type": "code",
   "execution_count": 240,
   "id": "fe7e1811",
   "metadata": {},
   "outputs": [],
   "source": [
    "eval_set = [(X_test_scaled, y_test)]"
   ]
  },
  {
   "cell_type": "code",
   "execution_count": 241,
   "id": "3c005a74",
   "metadata": {},
   "outputs": [
    {
     "name": "stdout",
     "output_type": "stream",
     "text": [
      "[0]\tvalidation_0-auc:0.76627\n",
      "[1]\tvalidation_0-auc:0.78402\n",
      "[2]\tvalidation_0-auc:0.78402\n",
      "[3]\tvalidation_0-auc:0.78402\n",
      "[4]\tvalidation_0-auc:0.78402\n",
      "[5]\tvalidation_0-auc:0.78402\n",
      "[6]\tvalidation_0-auc:0.78402\n",
      "[7]\tvalidation_0-auc:0.80178\n",
      "[8]\tvalidation_0-auc:0.80178\n",
      "[9]\tvalidation_0-auc:0.80178\n",
      "[10]\tvalidation_0-auc:0.80178\n",
      "[11]\tvalidation_0-auc:0.80178\n",
      "[12]\tvalidation_0-auc:0.80178\n",
      "[13]\tvalidation_0-auc:0.80178\n",
      "[14]\tvalidation_0-auc:0.80178\n",
      "[15]\tvalidation_0-auc:0.80178\n",
      "[16]\tvalidation_0-auc:0.80178\n"
     ]
    },
    {
     "name": "stderr",
     "output_type": "stream",
     "text": [
      "C:\\Users\\Tooman\\anaconda3\\lib\\site-packages\\xgboost\\sklearn.py:889: UserWarning: `early_stopping_rounds` in `fit` method is deprecated for better compatibility with scikit-learn, use `early_stopping_rounds` in constructor or`set_params` instead.\n",
      "  warnings.warn(\n"
     ]
    },
    {
     "data": {
      "text/plain": [
       "XGBClassifier(base_score=None, booster=None, callbacks=None,\n",
       "              colsample_bylevel=None, colsample_bynode=None,\n",
       "              colsample_bytree=None, device=None, early_stopping_rounds=None,\n",
       "              enable_categorical=False, eval_metric='auc', feature_types=None,\n",
       "              gamma=None, grow_policy=None, importance_type=None,\n",
       "              interaction_constraints=None, learning_rate=0.1, max_bin=None,\n",
       "              max_cat_threshold=None, max_cat_to_onehot=None,\n",
       "              max_delta_step=None, max_depth=5, max_leaves=None,\n",
       "              min_child_weight=None, missing=nan, monotone_constraints=None,\n",
       "              multi_strategy=None, n_estimators=5000, n_jobs=None,\n",
       "              num_parallel_tree=None, random_state=None, ...)"
      ]
     },
     "execution_count": 241,
     "metadata": {},
     "output_type": "execute_result"
    }
   ],
   "source": [
    "model61.fit(X_train_scaled, y_train, early_stopping_rounds=10, eval_set=eval_set, verbose=True)"
   ]
  },
  {
   "cell_type": "code",
   "execution_count": 242,
   "id": "855285af",
   "metadata": {},
   "outputs": [
    {
     "name": "stdout",
     "output_type": "stream",
     "text": [
      "AUC Train: 0.7845\n",
      "AUC Valid: 0.8018\n"
     ]
    }
   ],
   "source": [
    "y_train_pred = model61.predict_proba(X_train_scaled)[:,1]\n",
    "y_test_pred = model61.predict_proba(X_test_scaled)[:,1]\n",
    "\n",
    "print(\"AUC Train: {:.4f}\\nAUC Valid: {:.4f}\".format(roc_auc_score(y_train, y_train_pred),\n",
    "                                                    roc_auc_score(y_test, y_test_pred)))"
   ]
  },
  {
   "cell_type": "markdown",
   "id": "825db72c",
   "metadata": {},
   "source": [
    "#### Hyperparameter Tuning"
   ]
  },
  {
   "cell_type": "code",
   "execution_count": 243,
   "id": "822967d9",
   "metadata": {},
   "outputs": [
    {
     "name": "stdout",
     "output_type": "stream",
     "text": [
      "27\n"
     ]
    },
    {
     "data": {
      "text/plain": [
       "{'learning_rate': [0.02, 0.05, 0.1],\n",
       " 'max_depth': [2, 3, 5],\n",
       " 'n_estimators': [1000, 2000, 3000]}"
      ]
     },
     "execution_count": 243,
     "metadata": {},
     "output_type": "execute_result"
    }
   ],
   "source": [
    "learning_rate_list = [0.02, 0.05, 0.1]\n",
    "max_depth_list = [2,3,5]\n",
    "n_estimators_list = [1000, 2000, 3000]\n",
    "\n",
    "params_dict = {\"learning_rate\": learning_rate_list,\n",
    "               \"max_depth\": max_depth_list,\n",
    "               \"n_estimators\": n_estimators_list}\n",
    "\n",
    "num_combinations = 1\n",
    "for v in params_dict.values(): num_combinations *= len(v)\n",
    "    \n",
    "print(num_combinations)\n",
    "params_dict"
   ]
  },
  {
   "cell_type": "markdown",
   "id": "a36300db",
   "metadata": {},
   "source": [
    "Now let us pass this to GridSearchCV. We have a custom scoring function based on sklearn's roc_auc_score() which calculated area under the curve. CV value is 2, which is not ideal but we want to minimize the execution time."
   ]
  },
  {
   "cell_type": "code",
   "execution_count": 244,
   "id": "baeee850",
   "metadata": {},
   "outputs": [
    {
     "name": "stdout",
     "output_type": "stream",
     "text": [
      "Fitting 2 folds for each of 27 candidates, totalling 54 fits\n",
      "[CV 1/2] END learning_rate=0.02, max_depth=2, n_estimators=1000;, score=(train=0.507, test=0.518) total time=   0.0s\n",
      "[CV 2/2] END learning_rate=0.02, max_depth=2, n_estimators=1000;, score=(train=0.518, test=0.507) total time=   0.0s\n",
      "[CV 1/2] END learning_rate=0.02, max_depth=2, n_estimators=2000;, score=(train=0.507, test=0.518) total time=   0.1s\n",
      "[CV 2/2] END learning_rate=0.02, max_depth=2, n_estimators=2000;, score=(train=0.518, test=0.507) total time=   0.1s\n",
      "[CV 1/2] END learning_rate=0.02, max_depth=2, n_estimators=3000;, score=(train=0.507, test=0.518) total time=   0.3s\n",
      "[CV 2/2] END learning_rate=0.02, max_depth=2, n_estimators=3000;, score=(train=0.518, test=0.507) total time=   0.5s\n",
      "[CV 1/2] END learning_rate=0.02, max_depth=3, n_estimators=1000;, score=(train=0.507, test=0.518) total time=   0.1s\n",
      "[CV 2/2] END learning_rate=0.02, max_depth=3, n_estimators=1000;, score=(train=0.518, test=0.507) total time=   0.0s\n",
      "[CV 1/2] END learning_rate=0.02, max_depth=3, n_estimators=2000;, score=(train=0.507, test=0.518) total time=   0.2s\n",
      "[CV 2/2] END learning_rate=0.02, max_depth=3, n_estimators=2000;, score=(train=0.518, test=0.507) total time=   0.2s\n",
      "[CV 1/2] END learning_rate=0.02, max_depth=3, n_estimators=3000;, score=(train=0.507, test=0.518) total time=   0.3s\n",
      "[CV 2/2] END learning_rate=0.02, max_depth=3, n_estimators=3000;, score=(train=0.518, test=0.507) total time=   0.4s\n",
      "[CV 1/2] END learning_rate=0.02, max_depth=5, n_estimators=1000;, score=(train=0.507, test=0.518) total time=   0.1s\n",
      "[CV 2/2] END learning_rate=0.02, max_depth=5, n_estimators=1000;, score=(train=0.518, test=0.507) total time=   0.0s\n",
      "[CV 1/2] END learning_rate=0.02, max_depth=5, n_estimators=2000;, score=(train=0.507, test=0.518) total time=   0.1s\n",
      "[CV 2/2] END learning_rate=0.02, max_depth=5, n_estimators=2000;, score=(train=0.518, test=0.507) total time=   0.2s\n",
      "[CV 1/2] END learning_rate=0.02, max_depth=5, n_estimators=3000;, score=(train=0.507, test=0.518) total time=   0.3s\n",
      "[CV 2/2] END learning_rate=0.02, max_depth=5, n_estimators=3000;, score=(train=0.518, test=0.507) total time=   0.3s\n",
      "[CV 1/2] END learning_rate=0.05, max_depth=2, n_estimators=1000;, score=(train=0.507, test=0.518) total time=   0.0s\n",
      "[CV 2/2] END learning_rate=0.05, max_depth=2, n_estimators=1000;, score=(train=0.518, test=0.507) total time=   0.0s\n",
      "[CV 1/2] END learning_rate=0.05, max_depth=2, n_estimators=2000;, score=(train=0.507, test=0.518) total time=   0.2s\n",
      "[CV 2/2] END learning_rate=0.05, max_depth=2, n_estimators=2000;, score=(train=0.518, test=0.507) total time=   0.1s\n",
      "[CV 1/2] END learning_rate=0.05, max_depth=2, n_estimators=3000;, score=(train=0.507, test=0.518) total time=   0.3s\n",
      "[CV 2/2] END learning_rate=0.05, max_depth=2, n_estimators=3000;, score=(train=0.518, test=0.507) total time=   0.3s\n",
      "[CV 1/2] END learning_rate=0.05, max_depth=3, n_estimators=1000;, score=(train=0.507, test=0.518) total time=   0.0s\n",
      "[CV 2/2] END learning_rate=0.05, max_depth=3, n_estimators=1000;, score=(train=0.518, test=0.507) total time=   0.0s\n",
      "[CV 1/2] END learning_rate=0.05, max_depth=3, n_estimators=2000;, score=(train=0.507, test=0.518) total time=   0.2s\n",
      "[CV 2/2] END learning_rate=0.05, max_depth=3, n_estimators=2000;, score=(train=0.518, test=0.507) total time=   0.2s\n",
      "[CV 1/2] END learning_rate=0.05, max_depth=3, n_estimators=3000;, score=(train=0.507, test=0.518) total time=   0.3s\n",
      "[CV 2/2] END learning_rate=0.05, max_depth=3, n_estimators=3000;, score=(train=0.518, test=0.507) total time=   0.3s\n",
      "[CV 1/2] END learning_rate=0.05, max_depth=5, n_estimators=1000;, score=(train=0.507, test=0.518) total time=   0.0s\n",
      "[CV 2/2] END learning_rate=0.05, max_depth=5, n_estimators=1000;, score=(train=0.518, test=0.507) total time=   0.1s\n",
      "[CV 1/2] END learning_rate=0.05, max_depth=5, n_estimators=2000;, score=(train=0.507, test=0.518) total time=   0.2s\n",
      "[CV 2/2] END learning_rate=0.05, max_depth=5, n_estimators=2000;, score=(train=0.518, test=0.507) total time=   0.1s\n",
      "[CV 1/2] END learning_rate=0.05, max_depth=5, n_estimators=3000;, score=(train=0.507, test=0.518) total time=   0.3s\n",
      "[CV 2/2] END learning_rate=0.05, max_depth=5, n_estimators=3000;, score=(train=0.518, test=0.507) total time=   0.3s\n",
      "[CV 1/2] END learning_rate=0.1, max_depth=2, n_estimators=1000;, score=(train=0.507, test=0.518) total time=   0.0s\n",
      "[CV 2/2] END learning_rate=0.1, max_depth=2, n_estimators=1000;, score=(train=0.518, test=0.507) total time=   0.1s\n",
      "[CV 1/2] END learning_rate=0.1, max_depth=2, n_estimators=2000;, score=(train=0.507, test=0.518) total time=   0.1s\n",
      "[CV 2/2] END learning_rate=0.1, max_depth=2, n_estimators=2000;, score=(train=0.518, test=0.507) total time=   0.1s\n",
      "[CV 1/2] END learning_rate=0.1, max_depth=2, n_estimators=3000;, score=(train=0.507, test=0.518) total time=   0.3s\n",
      "[CV 2/2] END learning_rate=0.1, max_depth=2, n_estimators=3000;, score=(train=0.518, test=0.507) total time=   0.3s\n",
      "[CV 1/2] END learning_rate=0.1, max_depth=3, n_estimators=1000;, score=(train=0.507, test=0.518) total time=   0.0s\n",
      "[CV 2/2] END learning_rate=0.1, max_depth=3, n_estimators=1000;, score=(train=0.518, test=0.507) total time=   0.1s\n",
      "[CV 1/2] END learning_rate=0.1, max_depth=3, n_estimators=2000;, score=(train=0.507, test=0.518) total time=   0.1s\n",
      "[CV 2/2] END learning_rate=0.1, max_depth=3, n_estimators=2000;, score=(train=0.518, test=0.507) total time=   0.1s\n",
      "[CV 1/2] END learning_rate=0.1, max_depth=3, n_estimators=3000;, score=(train=0.507, test=0.518) total time=   0.3s\n",
      "[CV 2/2] END learning_rate=0.1, max_depth=3, n_estimators=3000;, score=(train=0.518, test=0.507) total time=   0.3s\n",
      "[CV 1/2] END learning_rate=0.1, max_depth=5, n_estimators=1000;, score=(train=0.507, test=0.518) total time=   0.1s\n",
      "[CV 2/2] END learning_rate=0.1, max_depth=5, n_estimators=1000;, score=(train=0.518, test=0.507) total time=   0.1s\n",
      "[CV 1/2] END learning_rate=0.1, max_depth=5, n_estimators=2000;, score=(train=0.507, test=0.518) total time=   0.2s\n",
      "[CV 2/2] END learning_rate=0.1, max_depth=5, n_estimators=2000;, score=(train=0.518, test=0.507) total time=   0.2s\n",
      "[CV 1/2] END learning_rate=0.1, max_depth=5, n_estimators=3000;, score=(train=0.507, test=0.518) total time=   0.3s\n",
      "[CV 2/2] END learning_rate=0.1, max_depth=5, n_estimators=3000;, score=(train=0.518, test=0.507) total time=   0.3s\n"
     ]
    },
    {
     "data": {
      "text/plain": [
       "GridSearchCV(cv=2,\n",
       "             estimator=XGBClassifier(base_score=None, booster=None,\n",
       "                                     callbacks=None, colsample_bylevel=None,\n",
       "                                     colsample_bynode=None,\n",
       "                                     colsample_bytree=0.25, device=None,\n",
       "                                     early_stopping_rounds=None,\n",
       "                                     enable_categorical=False,\n",
       "                                     eval_metric='auc', feature_types=None,\n",
       "                                     gamma=None, grow_policy=None,\n",
       "                                     importance_type=None,\n",
       "                                     interaction_constraints=None,\n",
       "                                     learning_rate=None...\n",
       "                                     max_leaves=None, min_child_weight=None,\n",
       "                                     missing=nan, monotone_constraints=None,\n",
       "                                     multi_strategy=None, n_estimators=None,\n",
       "                                     n_jobs=None, num_parallel_tree=None,\n",
       "                                     random_state=None, ...),\n",
       "             param_grid={'learning_rate': [0.02, 0.05, 0.1],\n",
       "                         'max_depth': [2, 3, 5],\n",
       "                         'n_estimators': [1000, 2000, 3000]},\n",
       "             return_train_score=True,\n",
       "             scoring=<function my_roc_auc_score at 0x0000016F27A71310>,\n",
       "             verbose=4)"
      ]
     },
     "execution_count": 244,
     "metadata": {},
     "output_type": "execute_result"
    }
   ],
   "source": [
    "def my_roc_auc_score(model, X, y): return roc_auc_score(y, model61.predict_proba(X)[:,1])\n",
    "\n",
    "model_xgboost_hp = GridSearchCV(estimator=xgboost.XGBClassifier(subsample=0.5,\n",
    "                                                                colsample_bytree=0.25,\n",
    "                                                                eval_metric='auc',\n",
    "                                                                use_label_encoder=False),\n",
    "                                param_grid=params_dict,\n",
    "                                cv=2,\n",
    "                                scoring=my_roc_auc_score,\n",
    "                                return_train_score=True,\n",
    "                                verbose=4)\n",
    "\n",
    "model_xgboost_hp.fit(X, y)"
   ]
  },
  {
   "cell_type": "markdown",
   "id": "63ad9860",
   "metadata": {},
   "source": [
    "Let us look at the output of grid search step. We will retain only a few relevant columns and sort based on rank_test_score i.ee the performance on validation data"
   ]
  },
  {
   "cell_type": "code",
   "execution_count": 245,
   "id": "e2e99cce",
   "metadata": {},
   "outputs": [
    {
     "data": {
      "text/html": [
       "<div>\n",
       "<style scoped>\n",
       "    .dataframe tbody tr th:only-of-type {\n",
       "        vertical-align: middle;\n",
       "    }\n",
       "\n",
       "    .dataframe tbody tr th {\n",
       "        vertical-align: top;\n",
       "    }\n",
       "\n",
       "    .dataframe thead th {\n",
       "        text-align: right;\n",
       "    }\n",
       "</style>\n",
       "<table border=\"1\" class=\"dataframe\">\n",
       "  <thead>\n",
       "    <tr style=\"text-align: right;\">\n",
       "      <th></th>\n",
       "      <th>rank_test_score</th>\n",
       "      <th>mean_test_score</th>\n",
       "      <th>mean_train_score</th>\n",
       "      <th>param_learning_rate</th>\n",
       "      <th>param_max_depth</th>\n",
       "      <th>param_n_estimators</th>\n",
       "    </tr>\n",
       "  </thead>\n",
       "  <tbody>\n",
       "    <tr>\n",
       "      <th>0</th>\n",
       "      <td>1</td>\n",
       "      <td>0.512446</td>\n",
       "      <td>0.512446</td>\n",
       "      <td>0.02</td>\n",
       "      <td>2</td>\n",
       "      <td>1000</td>\n",
       "    </tr>\n",
       "    <tr>\n",
       "      <th>24</th>\n",
       "      <td>1</td>\n",
       "      <td>0.512446</td>\n",
       "      <td>0.512446</td>\n",
       "      <td>0.1</td>\n",
       "      <td>5</td>\n",
       "      <td>1000</td>\n",
       "    </tr>\n",
       "    <tr>\n",
       "      <th>23</th>\n",
       "      <td>1</td>\n",
       "      <td>0.512446</td>\n",
       "      <td>0.512446</td>\n",
       "      <td>0.1</td>\n",
       "      <td>3</td>\n",
       "      <td>3000</td>\n",
       "    </tr>\n",
       "    <tr>\n",
       "      <th>22</th>\n",
       "      <td>1</td>\n",
       "      <td>0.512446</td>\n",
       "      <td>0.512446</td>\n",
       "      <td>0.1</td>\n",
       "      <td>3</td>\n",
       "      <td>2000</td>\n",
       "    </tr>\n",
       "    <tr>\n",
       "      <th>21</th>\n",
       "      <td>1</td>\n",
       "      <td>0.512446</td>\n",
       "      <td>0.512446</td>\n",
       "      <td>0.1</td>\n",
       "      <td>3</td>\n",
       "      <td>1000</td>\n",
       "    </tr>\n",
       "    <tr>\n",
       "      <th>20</th>\n",
       "      <td>1</td>\n",
       "      <td>0.512446</td>\n",
       "      <td>0.512446</td>\n",
       "      <td>0.1</td>\n",
       "      <td>2</td>\n",
       "      <td>3000</td>\n",
       "    </tr>\n",
       "    <tr>\n",
       "      <th>19</th>\n",
       "      <td>1</td>\n",
       "      <td>0.512446</td>\n",
       "      <td>0.512446</td>\n",
       "      <td>0.1</td>\n",
       "      <td>2</td>\n",
       "      <td>2000</td>\n",
       "    </tr>\n",
       "    <tr>\n",
       "      <th>18</th>\n",
       "      <td>1</td>\n",
       "      <td>0.512446</td>\n",
       "      <td>0.512446</td>\n",
       "      <td>0.1</td>\n",
       "      <td>2</td>\n",
       "      <td>1000</td>\n",
       "    </tr>\n",
       "    <tr>\n",
       "      <th>17</th>\n",
       "      <td>1</td>\n",
       "      <td>0.512446</td>\n",
       "      <td>0.512446</td>\n",
       "      <td>0.05</td>\n",
       "      <td>5</td>\n",
       "      <td>3000</td>\n",
       "    </tr>\n",
       "    <tr>\n",
       "      <th>16</th>\n",
       "      <td>1</td>\n",
       "      <td>0.512446</td>\n",
       "      <td>0.512446</td>\n",
       "      <td>0.05</td>\n",
       "      <td>5</td>\n",
       "      <td>2000</td>\n",
       "    </tr>\n",
       "    <tr>\n",
       "      <th>15</th>\n",
       "      <td>1</td>\n",
       "      <td>0.512446</td>\n",
       "      <td>0.512446</td>\n",
       "      <td>0.05</td>\n",
       "      <td>5</td>\n",
       "      <td>1000</td>\n",
       "    </tr>\n",
       "    <tr>\n",
       "      <th>14</th>\n",
       "      <td>1</td>\n",
       "      <td>0.512446</td>\n",
       "      <td>0.512446</td>\n",
       "      <td>0.05</td>\n",
       "      <td>3</td>\n",
       "      <td>3000</td>\n",
       "    </tr>\n",
       "    <tr>\n",
       "      <th>25</th>\n",
       "      <td>1</td>\n",
       "      <td>0.512446</td>\n",
       "      <td>0.512446</td>\n",
       "      <td>0.1</td>\n",
       "      <td>5</td>\n",
       "      <td>2000</td>\n",
       "    </tr>\n",
       "    <tr>\n",
       "      <th>13</th>\n",
       "      <td>1</td>\n",
       "      <td>0.512446</td>\n",
       "      <td>0.512446</td>\n",
       "      <td>0.05</td>\n",
       "      <td>3</td>\n",
       "      <td>2000</td>\n",
       "    </tr>\n",
       "    <tr>\n",
       "      <th>11</th>\n",
       "      <td>1</td>\n",
       "      <td>0.512446</td>\n",
       "      <td>0.512446</td>\n",
       "      <td>0.05</td>\n",
       "      <td>2</td>\n",
       "      <td>3000</td>\n",
       "    </tr>\n",
       "    <tr>\n",
       "      <th>10</th>\n",
       "      <td>1</td>\n",
       "      <td>0.512446</td>\n",
       "      <td>0.512446</td>\n",
       "      <td>0.05</td>\n",
       "      <td>2</td>\n",
       "      <td>2000</td>\n",
       "    </tr>\n",
       "    <tr>\n",
       "      <th>9</th>\n",
       "      <td>1</td>\n",
       "      <td>0.512446</td>\n",
       "      <td>0.512446</td>\n",
       "      <td>0.05</td>\n",
       "      <td>2</td>\n",
       "      <td>1000</td>\n",
       "    </tr>\n",
       "    <tr>\n",
       "      <th>8</th>\n",
       "      <td>1</td>\n",
       "      <td>0.512446</td>\n",
       "      <td>0.512446</td>\n",
       "      <td>0.02</td>\n",
       "      <td>5</td>\n",
       "      <td>3000</td>\n",
       "    </tr>\n",
       "    <tr>\n",
       "      <th>7</th>\n",
       "      <td>1</td>\n",
       "      <td>0.512446</td>\n",
       "      <td>0.512446</td>\n",
       "      <td>0.02</td>\n",
       "      <td>5</td>\n",
       "      <td>2000</td>\n",
       "    </tr>\n",
       "    <tr>\n",
       "      <th>6</th>\n",
       "      <td>1</td>\n",
       "      <td>0.512446</td>\n",
       "      <td>0.512446</td>\n",
       "      <td>0.02</td>\n",
       "      <td>5</td>\n",
       "      <td>1000</td>\n",
       "    </tr>\n",
       "    <tr>\n",
       "      <th>5</th>\n",
       "      <td>1</td>\n",
       "      <td>0.512446</td>\n",
       "      <td>0.512446</td>\n",
       "      <td>0.02</td>\n",
       "      <td>3</td>\n",
       "      <td>3000</td>\n",
       "    </tr>\n",
       "    <tr>\n",
       "      <th>4</th>\n",
       "      <td>1</td>\n",
       "      <td>0.512446</td>\n",
       "      <td>0.512446</td>\n",
       "      <td>0.02</td>\n",
       "      <td>3</td>\n",
       "      <td>2000</td>\n",
       "    </tr>\n",
       "    <tr>\n",
       "      <th>3</th>\n",
       "      <td>1</td>\n",
       "      <td>0.512446</td>\n",
       "      <td>0.512446</td>\n",
       "      <td>0.02</td>\n",
       "      <td>3</td>\n",
       "      <td>1000</td>\n",
       "    </tr>\n",
       "    <tr>\n",
       "      <th>2</th>\n",
       "      <td>1</td>\n",
       "      <td>0.512446</td>\n",
       "      <td>0.512446</td>\n",
       "      <td>0.02</td>\n",
       "      <td>2</td>\n",
       "      <td>3000</td>\n",
       "    </tr>\n",
       "    <tr>\n",
       "      <th>1</th>\n",
       "      <td>1</td>\n",
       "      <td>0.512446</td>\n",
       "      <td>0.512446</td>\n",
       "      <td>0.02</td>\n",
       "      <td>2</td>\n",
       "      <td>2000</td>\n",
       "    </tr>\n",
       "    <tr>\n",
       "      <th>12</th>\n",
       "      <td>1</td>\n",
       "      <td>0.512446</td>\n",
       "      <td>0.512446</td>\n",
       "      <td>0.05</td>\n",
       "      <td>3</td>\n",
       "      <td>1000</td>\n",
       "    </tr>\n",
       "    <tr>\n",
       "      <th>26</th>\n",
       "      <td>1</td>\n",
       "      <td>0.512446</td>\n",
       "      <td>0.512446</td>\n",
       "      <td>0.1</td>\n",
       "      <td>5</td>\n",
       "      <td>3000</td>\n",
       "    </tr>\n",
       "  </tbody>\n",
       "</table>\n",
       "</div>"
      ],
      "text/plain": [
       "    rank_test_score  mean_test_score  mean_train_score param_learning_rate  \\\n",
       "0                 1         0.512446          0.512446                0.02   \n",
       "24                1         0.512446          0.512446                 0.1   \n",
       "23                1         0.512446          0.512446                 0.1   \n",
       "22                1         0.512446          0.512446                 0.1   \n",
       "21                1         0.512446          0.512446                 0.1   \n",
       "20                1         0.512446          0.512446                 0.1   \n",
       "19                1         0.512446          0.512446                 0.1   \n",
       "18                1         0.512446          0.512446                 0.1   \n",
       "17                1         0.512446          0.512446                0.05   \n",
       "16                1         0.512446          0.512446                0.05   \n",
       "15                1         0.512446          0.512446                0.05   \n",
       "14                1         0.512446          0.512446                0.05   \n",
       "25                1         0.512446          0.512446                 0.1   \n",
       "13                1         0.512446          0.512446                0.05   \n",
       "11                1         0.512446          0.512446                0.05   \n",
       "10                1         0.512446          0.512446                0.05   \n",
       "9                 1         0.512446          0.512446                0.05   \n",
       "8                 1         0.512446          0.512446                0.02   \n",
       "7                 1         0.512446          0.512446                0.02   \n",
       "6                 1         0.512446          0.512446                0.02   \n",
       "5                 1         0.512446          0.512446                0.02   \n",
       "4                 1         0.512446          0.512446                0.02   \n",
       "3                 1         0.512446          0.512446                0.02   \n",
       "2                 1         0.512446          0.512446                0.02   \n",
       "1                 1         0.512446          0.512446                0.02   \n",
       "12                1         0.512446          0.512446                0.05   \n",
       "26                1         0.512446          0.512446                 0.1   \n",
       "\n",
       "   param_max_depth param_n_estimators  \n",
       "0                2               1000  \n",
       "24               5               1000  \n",
       "23               3               3000  \n",
       "22               3               2000  \n",
       "21               3               1000  \n",
       "20               2               3000  \n",
       "19               2               2000  \n",
       "18               2               1000  \n",
       "17               5               3000  \n",
       "16               5               2000  \n",
       "15               5               1000  \n",
       "14               3               3000  \n",
       "25               5               2000  \n",
       "13               3               2000  \n",
       "11               2               3000  \n",
       "10               2               2000  \n",
       "9                2               1000  \n",
       "8                5               3000  \n",
       "7                5               2000  \n",
       "6                5               1000  \n",
       "5                3               3000  \n",
       "4                3               2000  \n",
       "3                3               1000  \n",
       "2                2               3000  \n",
       "1                2               2000  \n",
       "12               3               1000  \n",
       "26               5               3000  "
      ]
     },
     "execution_count": 245,
     "metadata": {},
     "output_type": "execute_result"
    }
   ],
   "source": [
    "df_cv_results = pd.DataFrame(model_xgboost_hp.cv_results_)\n",
    "df_cv_results = df_cv_results[['rank_test_score','mean_test_score','mean_train_score',\n",
    "                               'param_learning_rate', 'param_max_depth', 'param_n_estimators']]\n",
    "df_cv_results.sort_values(by='rank_test_score', inplace=True)\n",
    "df_cv_results"
   ]
  },
  {
   "cell_type": "markdown",
   "id": "c345000a",
   "metadata": {},
   "source": [
    "Let us try to find how does model perfomance vary with respect to number of trees and depth of tree"
   ]
  },
  {
   "cell_type": "code",
   "execution_count": 246,
   "id": "e006107e",
   "metadata": {},
   "outputs": [
    {
     "data": {
      "text/plain": [
       "Text(0.5, 1.0, 'Performance wrt # of Trees and Depth')"
      ]
     },
     "execution_count": 246,
     "metadata": {},
     "output_type": "execute_result"
    },
    {
     "data": {
      "image/png": "[encoded data removed]",
      "text/plain": [
       "<Figure size 720x360 with 1 Axes>"
      ]
     },
     "metadata": {},
     "output_type": "display_data"
    }
   ],
   "source": [
    "# First sort by number of estimators as that would be x-axis\n",
    "df_cv_results.sort_values(by='param_n_estimators', inplace=True)\n",
    "\n",
    "# Find values of AUC for learning rate of 0.05 and different values of depth\n",
    "lr_d2 = df_cv_results.loc[(df_cv_results['param_learning_rate']==0.05) & (df_cv_results['param_max_depth']==2),:]\n",
    "lr_d3 = df_cv_results.loc[(df_cv_results['param_learning_rate']==0.05) & (df_cv_results['param_max_depth']==3),:]\n",
    "lr_d5 = df_cv_results.loc[(df_cv_results['param_learning_rate']==0.05) & (df_cv_results['param_max_depth']==5),:]\n",
    "lr_d7 = df_cv_results.loc[(df_cv_results['param_learning_rate']==0.05) & (df_cv_results['param_max_depth']==7),:]\n",
    "\n",
    "# Let us plot now\n",
    "fig, ax = plt.subplots(figsize=(10,5))\n",
    "lr_d2.plot(x='param_n_estimators', y='mean_test_score', label='Depth=2', ax=ax)\n",
    "lr_d3.plot(x='param_n_estimators', y='mean_test_score', label='Depth=3', ax=ax)\n",
    "lr_d5.plot(x='param_n_estimators', y='mean_test_score', label='Depth=5', ax=ax)\n",
    "lr_d7.plot(x='param_n_estimators', y='mean_test_score', label='Depth=7', ax=ax)\n",
    "plt.ylabel('Mean Validation AUC')\n",
    "plt.title('Performance wrt # of Trees and Depth')"
   ]
  },
  {
   "cell_type": "markdown",
   "id": "306b0f1a",
   "metadata": {},
   "source": [
    "Now that we have seen the performance is higher for higher values of trees and lower depth, let us find performance w.r.t. learning rate. We fix n_estimators to 3000 and depth to 2."
   ]
  },
  {
   "cell_type": "code",
   "execution_count": 247,
   "id": "11614a47",
   "metadata": {},
   "outputs": [
    {
     "data": {
      "text/plain": [
       "Text(0.5, 1.0, 'Performance wrt learning rate')"
      ]
     },
     "execution_count": 247,
     "metadata": {},
     "output_type": "execute_result"
    },
    {
     "data": {
      "image/png": "[encoded data removed]",
      "text/plain": [
       "<Figure size 720x360 with 1 Axes>"
      ]
     },
     "metadata": {},
     "output_type": "display_data"
    }
   ],
   "source": [
    "# First sort by learning rate as that would be x-axis\n",
    "df_cv_results.sort_values(by='param_learning_rate', inplace=True)\n",
    "\n",
    "# Find values of AUC for learning rate of 0.05 and different values of depth\n",
    "lr_t3k_d2 = df_cv_results.loc[(df_cv_results['param_n_estimators']==3000) & (df_cv_results['param_max_depth']==2),:]\n",
    "\n",
    "# Let us plot now\n",
    "fig, ax = plt.subplots(figsize=(10,5))\n",
    "lr_t3k_d2.plot(x='param_learning_rate', y='mean_test_score', label='Depth=2, Trees=3000', ax=ax)\n",
    "plt.ylabel('Mean Validation AUC')\n",
    "plt.title('Performance wrt learning rate')"
   ]
  },
  {
   "cell_type": "code",
   "execution_count": null,
   "id": "1a442be6",
   "metadata": {},
   "outputs": [],
   "source": [
    "# Final model with the hyperparameters."
   ]
  },
  {
   "cell_type": "code",
   "execution_count": 248,
   "id": "b10c7dfd",
   "metadata": {},
   "outputs": [
    {
     "name": "stdout",
     "output_type": "stream",
     "text": [
      "[0]\tvalidation_0-auc:0.63068\tvalidation_1-auc:0.73077\n",
      "[1]\tvalidation_0-auc:0.62601\tvalidation_1-auc:0.69231\n",
      "[2]\tvalidation_0-auc:0.63271\tvalidation_1-auc:0.65976\n",
      "[3]\tvalidation_0-auc:0.62378\tvalidation_1-auc:0.67160\n",
      "[4]\tvalidation_0-auc:0.63271\tvalidation_1-auc:0.65976\n",
      "[5]\tvalidation_0-auc:0.61972\tvalidation_1-auc:0.68639\n",
      "[6]\tvalidation_0-auc:0.63190\tvalidation_1-auc:0.71006\n",
      "[7]\tvalidation_0-auc:0.63555\tvalidation_1-auc:0.73373\n",
      "[8]\tvalidation_0-auc:0.63149\tvalidation_1-auc:0.71598\n",
      "[9]\tvalidation_0-auc:0.64692\tvalidation_1-auc:0.72485\n",
      "[10]\tvalidation_0-auc:0.64286\tvalidation_1-auc:0.69527\n",
      "[11]\tvalidation_0-auc:0.64286\tvalidation_1-auc:0.69527\n",
      "[12]\tvalidation_0-auc:0.67289\tvalidation_1-auc:0.71893\n",
      "[13]\tvalidation_0-auc:0.64813\tvalidation_1-auc:0.72485\n",
      "[14]\tvalidation_0-auc:0.64894\tvalidation_1-auc:0.72485\n",
      "[15]\tvalidation_0-auc:0.64894\tvalidation_1-auc:0.72485\n",
      "[16]\tvalidation_0-auc:0.64894\tvalidation_1-auc:0.72485\n",
      "[17]\tvalidation_0-auc:0.65869\tvalidation_1-auc:0.73077\n",
      "[18]\tvalidation_0-auc:0.65706\tvalidation_1-auc:0.71302\n",
      "[19]\tvalidation_0-auc:0.65787\tvalidation_1-auc:0.71893\n",
      "[20]\tvalidation_0-auc:0.65950\tvalidation_1-auc:0.71893\n",
      "[21]\tvalidation_0-auc:0.65787\tvalidation_1-auc:0.71893\n",
      "[22]\tvalidation_0-auc:0.65706\tvalidation_1-auc:0.69527\n",
      "[23]\tvalidation_0-auc:0.66193\tvalidation_1-auc:0.70710\n",
      "[24]\tvalidation_0-auc:0.65179\tvalidation_1-auc:0.69527\n",
      "[25]\tvalidation_0-auc:0.65179\tvalidation_1-auc:0.69527\n",
      "[26]\tvalidation_0-auc:0.65179\tvalidation_1-auc:0.69527\n"
     ]
    },
    {
     "name": "stderr",
     "output_type": "stream",
     "text": [
      "C:\\Users\\Tooman\\anaconda3\\lib\\site-packages\\xgboost\\sklearn.py:889: UserWarning: `early_stopping_rounds` in `fit` method is deprecated for better compatibility with scikit-learn, use `early_stopping_rounds` in constructor or`set_params` instead.\n",
      "  warnings.warn(\n"
     ]
    },
    {
     "data": {
      "text/plain": [
       "XGBClassifier(base_score=None, booster=None, callbacks=None,\n",
       "              colsample_bylevel=None, colsample_bynode=None,\n",
       "              colsample_bytree=0.25, device=None, early_stopping_rounds=None,\n",
       "              enable_categorical=False, eval_metric='auc', feature_types=None,\n",
       "              gamma=None, grow_policy=None, importance_type=None,\n",
       "              interaction_constraints=None, learning_rate=0.05, max_bin=None,\n",
       "              max_cat_threshold=None, max_cat_to_onehot=None,\n",
       "              max_delta_step=None, max_depth=2, max_leaves=None,\n",
       "              min_child_weight=None, missing=nan, monotone_constraints=None,\n",
       "              multi_strategy=None, n_estimators=5000, n_jobs=None,\n",
       "              num_parallel_tree=None, random_state=None, ...)"
      ]
     },
     "execution_count": 248,
     "metadata": {},
     "output_type": "execute_result"
    }
   ],
   "source": [
    "model_xgboost_fin = xgboost.XGBClassifier(learning_rate=0.05,\n",
    "                                          max_depth=2,\n",
    "                                          n_estimators=5000,\n",
    "                                          subsample=0.5,\n",
    "                                          colsample_bytree=0.25,\n",
    "                                          eval_metric='auc',\n",
    "                                          verbosity=1,\n",
    "                                          use_label_encoder=False)\n",
    "\n",
    "# Passing both training and validation dataset as we want to plot AUC for both\n",
    "eval_set = [(X_train_scaled, y_train),(X_test_scaled, y_test)]\n",
    "\n",
    "model_xgboost_fin.fit(X_train_scaled,\n",
    "                  y_train,\n",
    "                  early_stopping_rounds=20,\n",
    "                  eval_set=eval_set,\n",
    "                  verbose=True)"
   ]
  },
  {
   "cell_type": "code",
   "execution_count": 250,
   "id": "ab4106cf",
   "metadata": {},
   "outputs": [
    {
     "name": "stdout",
     "output_type": "stream",
     "text": [
      "AUC Train: 0.6356\n",
      "AUC Valid: 0.8018\n"
     ]
    }
   ],
   "source": [
    "y_train_pred = model_xgboost_fin.predict_proba(X_train_scaled)[:,1]\n",
    "y_valid_pred = model_xgboost_fin.predict_proba(X_test_scaled)[:,1]\n",
    "\n",
    "print(\"AUC Train: {:.4f}\\nAUC Valid: {:.4f}\".format(roc_auc_score(y_train, y_train_pred),\n",
    "                                                    roc_auc_score(y_test, y_test_pred)))"
   ]
  },
  {
   "cell_type": "code",
   "execution_count": null,
   "id": "f00d36e2",
   "metadata": {},
   "outputs": [],
   "source": []
  },
  {
   "cell_type": "code",
   "execution_count": null,
   "id": "0aae7122",
   "metadata": {},
   "outputs": [],
   "source": []
  }
 ],
 "metadata": {
  "kernelspec": {
   "display_name": "Python 3 (ipykernel)",
   "language": "python",
   "name": "python3"
  },
  "language_info": {
   "codemirror_mode": {
    "name": "ipython",
    "version": 3
   },
   "file_extension": ".py",
   "mimetype": "text/x-python",
   "name": "python",
   "nbconvert_exporter": "python",
   "pygments_lexer": "ipython3",
   "version": "3.9.7"
  }
 },
 "nbformat": 4,
 "nbformat_minor": 5
}
